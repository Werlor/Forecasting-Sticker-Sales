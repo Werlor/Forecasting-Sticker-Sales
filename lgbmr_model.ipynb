{
 "cells": [
  {
   "cell_type": "code",
   "execution_count": 1,
   "id": "4a178184-0065-4013-9783-100916efedd8",
   "metadata": {},
   "outputs": [],
   "source": [
    "import numpy as np\n",
    "import pandas as pd\n",
    "import holidays\n",
    "import optuna\n",
    "\n",
    "from lightgbm import LGBMRegressor\n",
    "from sklearn.model_selection import train_test_split, cross_val_score, KFold \n",
    "from sklearn.metrics import mean_absolute_percentage_error, make_scorer"
   ]
  },
  {
   "cell_type": "code",
   "execution_count": 2,
   "id": "28449947-7413-4363-a3a5-1c5576c4c63b",
   "metadata": {},
   "outputs": [],
   "source": [
    "df = pd.read_csv('data/train.csv')\n",
    "df_pred = pd.read_csv('data/test.csv')"
   ]
  },
  {
   "cell_type": "code",
   "execution_count": 3,
   "id": "b9f2f67c-d357-4a6e-a03e-170c47604d7e",
   "metadata": {},
   "outputs": [],
   "source": [
    "# Привожу дату к типу pd.datetime\n",
    "df['date'] = pd.to_datetime(df['date'], format='%Y-%m-%d')\n",
    "df_pred['date'] = pd.to_datetime(df_pred['date'], format='%Y-%m-%d')"
   ]
  },
  {
   "cell_type": "code",
   "execution_count": 4,
   "id": "634e01e1-cb4b-4816-9800-d9a3c57dabcf",
   "metadata": {},
   "outputs": [],
   "source": [
    "# Новые признаки из даты\n",
    "df['day'] = df.date.dt.day\n",
    "df['month'] = df.date.dt.month\n",
    "df['year'] = df.date.dt.year\n",
    "# df['quarter'] = df.date.dt.quarter\n",
    "# df['dayofyear'] = df.date.dt.dayofyear\n",
    "# df['weekday'] = df.date.dt.weekday\n",
    "\n",
    "df_pred['day'] = df_pred.date.dt.day\n",
    "df_pred['month'] = df_pred.date.dt.month\n",
    "df_pred['year'] = df_pred.date.dt.year\n",
    "# df_pred['quarter'] = df_pred.date.dt.quarter\n",
    "# df_pred['dayofyear'] = df_pred.date.dt.dayofyear\n",
    "# df_pred['weekday'] = df_pred.date.dt.weekday"
   ]
  },
  {
   "cell_type": "code",
   "execution_count": 5,
   "id": "bb22dc8e-8cda-432a-ac5f-81f34f7115b6",
   "metadata": {},
   "outputs": [],
   "source": [
    "# holiday_dict = {\n",
    "#     'Canada': holidays.CA(),\n",
    "#     'Finland': holidays.FI(),\n",
    "#     'Italy': holidays.IT(),\n",
    "#     'Kenya': holidays.KE(),\n",
    "#     'Norway': holidays.NO(),\n",
    "#     'Singapore': holidays.SG()\n",
    "# }\n",
    "\n",
    "\n",
    "# def is_holiday(row):\n",
    "#     country = row['country']\n",
    "#     date = row['date']\n",
    "    \n",
    "#     if date in holiday_dict[country]:\n",
    "#         return True\n",
    "#     else:\n",
    "#         return False\n",
    "\n",
    "\n",
    "# def is_weekend(row):\n",
    "#     date = row['date']\n",
    "\n",
    "#     if date.weekday() >= 5:\n",
    "#         return True\n",
    "#     else:\n",
    "#         return False\n",
    "\n",
    "\n",
    "# df['weekend'] = df.apply(is_weekend, axis=1)\n",
    "# df['holiday'] = df.apply(is_holiday, axis=1)\n",
    "\n",
    "# df_pred['weekend'] = df_pred.apply(is_weekend, axis=1)\n",
    "# df_pred['holiday'] = df_pred.apply(is_holiday, axis=1)"
   ]
  },
  {
   "cell_type": "code",
   "execution_count": 6,
   "id": "5f58b517-4a2f-4e61-aee0-dabfe6c262e6",
   "metadata": {},
   "outputs": [],
   "source": [
    "# Удаляю id\n",
    "df.drop(columns='id', inplace=True)\n",
    "df_pred.drop(columns='id', inplace=True)\n",
    "\n",
    "# Удаляю Nan значения\n",
    "df.dropna(subset=['num_sold'], inplace=True)"
   ]
  },
  {
   "cell_type": "code",
   "execution_count": 7,
   "id": "6f6e5591-2305-451e-b625-599ea5c05574",
   "metadata": {},
   "outputs": [],
   "source": [
    "# удаляю date\n",
    "df.drop(columns='date', inplace=True)\n",
    "df_pred.drop(columns='date', inplace=True)"
   ]
  },
  {
   "cell_type": "code",
   "execution_count": 8,
   "id": "05ddd9d2-ac41-461c-8ad8-43c9275f73f2",
   "metadata": {},
   "outputs": [],
   "source": [
    "lst = ['country', 'store', 'product']\n",
    "df = pd.get_dummies(df, columns=lst, dtype='bool')\n",
    "df_pred = pd.get_dummies(df_pred, columns=lst, dtype='bool')"
   ]
  },
  {
   "cell_type": "code",
   "execution_count": 9,
   "id": "d0145f7e-3b38-48fe-b778-a93455304b5f",
   "metadata": {},
   "outputs": [],
   "source": [
    "X = df.drop(columns='num_sold')\n",
    "y = df['num_sold']\n",
    "\n",
    "X_train, X_test, y_train, y_test = train_test_split(X, y, test_size=0.2, random_state=11)"
   ]
  },
  {
   "cell_type": "code",
   "execution_count": 10,
   "id": "8bc91feb-88a7-4b72-8852-a12ba287ca5f",
   "metadata": {},
   "outputs": [],
   "source": [
    "# Синхронизация столбцов\n",
    "df_pred = df_pred[X.columns]"
   ]
  },
  {
   "cell_type": "code",
   "execution_count": 11,
   "id": "7d8e5217-8705-4e1e-b9fd-4fd2577c5b34",
   "metadata": {},
   "outputs": [],
   "source": [
    "# def objective(trial: optuna.Trial):\n",
    "#     '''\n",
    "#     Обычная сигнатура функции оптимизации для optuna.\n",
    "#     '''\n",
    "#     param = {\n",
    "#             \"metric\": 'MAPE',\n",
    "#             \"verbosity\": -1,\n",
    "#             \"random_state\": 42,\n",
    "#             \"learning_rate\": trial.suggest_float(\"learning_rate\", 0.01, 0.1, log=True),\n",
    "#             \"n_estimators\": trial.suggest_int(\"n_estimators\", 100, 1000),\n",
    "#             'lambda_l1': trial.suggest_float('lambda_l1', 1e-8, 10.0, log=True),\n",
    "#             'lambda_l2': trial.suggest_float('lambda_l2', 1e-8, 10.0, log=True),\n",
    "#             \"max_depth\": trial.suggest_int(\"max_depth\", 5, 25),\n",
    "# #            \"colsample_bytree\": trial.suggest_float(\"colsample_bytree\", 0.3, 0.9),\n",
    "# #            \"subsample\": trial.suggest_float(\"subsample\", 0.8, 1.0),\n",
    "#             \"min_child_samples\": trial.suggest_int(\"min_child_samples\", 5, 50),\n",
    "#             'feature_fraction': trial.suggest_float('feature_fraction', 0.4, 1.0),\n",
    "#             'bagging_fraction': trial.suggest_float('bagging_fraction', 0.4, 1.0)}\n",
    "    \n",
    "#     lgbm_model = LGBMRegressor(**param)\n",
    "#     scorer = make_scorer(mean_absolute_percentage_error, greater_is_better=False)\n",
    "#     kf = KFold(n_splits=5, shuffle=True, random_state=42)\n",
    "#     cv_scores = cross_val_score(lgbm_model, X_train, y_train, cv=kf, scoring=scorer)\n",
    "#     return -np.mean(cv_scores)\n",
    "    \n",
    "\n",
    "\n",
    "# study = optuna.create_study(direction='minimize')\n",
    "# study.optimize(objective, n_trials=100)"
   ]
  },
  {
   "cell_type": "code",
   "execution_count": 12,
   "id": "d7afbfe6-4da5-4039-9fa4-36dd85f21e96",
   "metadata": {},
   "outputs": [],
   "source": [
    "best_params = {'learning_rate': 0.05633483952355363,\n",
    " 'n_estimators': 706,\n",
    " 'lambda_l1': 0.007111819841668459,\n",
    " 'lambda_l2': 1.8352717695707565e-05,\n",
    " 'max_depth': 13,\n",
    " 'min_child_samples': 9,\n",
    " 'feature_fraction': 0.6958643949900152,\n",
    " 'bagging_fraction': 0.4212591389800655}"
   ]
  },
  {
   "cell_type": "code",
   "execution_count": 13,
   "id": "37ab949c-a7b6-4171-b982-795ea905e813",
   "metadata": {},
   "outputs": [
    {
     "name": "stdout",
     "output_type": "stream",
     "text": [
      "[LightGBM] [Warning] feature_fraction is set=0.6958643949900152, colsample_bytree=1.0 will be ignored. Current value: feature_fraction=0.6958643949900152\n",
      "[LightGBM] [Warning] lambda_l1 is set=0.007111819841668459, reg_alpha=0.0 will be ignored. Current value: lambda_l1=0.007111819841668459\n",
      "[LightGBM] [Warning] lambda_l2 is set=1.8352717695707565e-05, reg_lambda=0.0 will be ignored. Current value: lambda_l2=1.8352717695707565e-05\n",
      "[LightGBM] [Warning] bagging_fraction is set=0.4212591389800655, subsample=1.0 will be ignored. Current value: bagging_fraction=0.4212591389800655\n",
      "[LightGBM] [Warning] Found whitespace in feature_names, replace with underlines\n",
      "[LightGBM] [Warning] feature_fraction is set=0.6958643949900152, colsample_bytree=1.0 will be ignored. Current value: feature_fraction=0.6958643949900152\n",
      "[LightGBM] [Warning] lambda_l1 is set=0.007111819841668459, reg_alpha=0.0 will be ignored. Current value: lambda_l1=0.007111819841668459\n",
      "[LightGBM] [Warning] lambda_l2 is set=1.8352717695707565e-05, reg_lambda=0.0 will be ignored. Current value: lambda_l2=1.8352717695707565e-05\n",
      "[LightGBM] [Warning] bagging_fraction is set=0.4212591389800655, subsample=1.0 will be ignored. Current value: bagging_fraction=0.4212591389800655\n",
      "[LightGBM] [Info] Auto-choosing row-wise multi-threading, the overhead of testing was 0.003608 seconds.\n",
      "You can set `force_row_wise=true` to remove the overhead.\n",
      "And if memory is not enough, you can set `force_col_wise=true`.\n",
      "[LightGBM] [Info] Total Bins 81\n",
      "[LightGBM] [Info] Number of data points in the train set: 177007, number of used features: 17\n",
      "[LightGBM] [Warning] feature_fraction is set=0.6958643949900152, colsample_bytree=1.0 will be ignored. Current value: feature_fraction=0.6958643949900152\n",
      "[LightGBM] [Warning] lambda_l1 is set=0.007111819841668459, reg_alpha=0.0 will be ignored. Current value: lambda_l1=0.007111819841668459\n",
      "[LightGBM] [Warning] lambda_l2 is set=1.8352717695707565e-05, reg_lambda=0.0 will be ignored. Current value: lambda_l2=1.8352717695707565e-05\n",
      "[LightGBM] [Warning] bagging_fraction is set=0.4212591389800655, subsample=1.0 will be ignored. Current value: bagging_fraction=0.4212591389800655\n",
      "[LightGBM] [Warning] Found whitespace in feature_names, replace with underlines\n",
      "[LightGBM] [Info] Start training from score 752.618038\n",
      "[LightGBM] [Warning] feature_fraction is set=0.6958643949900152, colsample_bytree=1.0 will be ignored. Current value: feature_fraction=0.6958643949900152\n",
      "[LightGBM] [Warning] lambda_l1 is set=0.007111819841668459, reg_alpha=0.0 will be ignored. Current value: lambda_l1=0.007111819841668459\n",
      "[LightGBM] [Warning] lambda_l2 is set=1.8352717695707565e-05, reg_lambda=0.0 will be ignored. Current value: lambda_l2=1.8352717695707565e-05\n",
      "[LightGBM] [Warning] bagging_fraction is set=0.4212591389800655, subsample=1.0 will be ignored. Current value: bagging_fraction=0.4212591389800655\n",
      "[LightGBM] [Warning] feature_fraction is set=0.6958643949900152, colsample_bytree=1.0 will be ignored. Current value: feature_fraction=0.6958643949900152\n",
      "[LightGBM] [Warning] lambda_l1 is set=0.007111819841668459, reg_alpha=0.0 will be ignored. Current value: lambda_l1=0.007111819841668459\n",
      "[LightGBM] [Warning] lambda_l2 is set=1.8352717695707565e-05, reg_lambda=0.0 will be ignored. Current value: lambda_l2=1.8352717695707565e-05\n",
      "[LightGBM] [Warning] bagging_fraction is set=0.4212591389800655, subsample=1.0 will be ignored. Current value: bagging_fraction=0.4212591389800655\n"
     ]
    },
    {
     "data": {
      "text/plain": [
       "0.14161237525932033"
      ]
     },
     "execution_count": 13,
     "metadata": {},
     "output_type": "execute_result"
    }
   ],
   "source": [
    "lgbmr_model = LGBMRegressor(**best_params)\n",
    "\n",
    "lgbmr_model.fit(X_train, y_train, eval_set=(X_test, y_test))\n",
    "y_pred = lgbmr_model.predict(X_test)\n",
    "mae = mean_absolute_percentage_error(y_test, y_pred)\n",
    "pred = lgbmr_model.predict(df_pred)\n",
    "mae"
   ]
  },
  {
   "cell_type": "code",
   "execution_count": 14,
   "id": "df739ca5-333d-4a94-abab-f042df06152d",
   "metadata": {},
   "outputs": [],
   "source": [
    "df_pred_duble = pd.read_csv('data/test.csv')\n",
    "df_pred_Id = df_pred_duble['id']\n",
    "\n",
    "output = pd.DataFrame({'id': df_pred_Id, 'num_sold': pred})\n",
    "output.to_csv('data/lgbmr_model.csv', index=False)"
   ]
  },
  {
   "cell_type": "code",
   "execution_count": null,
   "id": "77858bf3-428a-44b4-bb12-811e6d8df3f9",
   "metadata": {},
   "outputs": [],
   "source": []
  }
 ],
 "metadata": {
  "kernelspec": {
   "display_name": "Python 3 (ipykernel)",
   "language": "python",
   "name": "python3"
  },
  "language_info": {
   "codemirror_mode": {
    "name": "ipython",
    "version": 3
   },
   "file_extension": ".py",
   "mimetype": "text/x-python",
   "name": "python",
   "nbconvert_exporter": "python",
   "pygments_lexer": "ipython3",
   "version": "3.10.11"
  }
 },
 "nbformat": 4,
 "nbformat_minor": 5
}
