{
 "cells": [
  {
   "cell_type": "code",
   "execution_count": 1,
   "id": "8422de09-ce26-4e09-88f9-d3384d72c774",
   "metadata": {},
   "outputs": [],
   "source": [
    "import numpy as np\n",
    "import pandas as pd\n",
    "import holidays\n",
    "import optuna\n",
    "\n",
    "from lightgbm import LGBMRegressor\n",
    "from sklearn.model_selection import train_test_split, cross_val_score, KFold \n",
    "from sklearn.metrics import mean_absolute_percentage_error, make_scorer\n",
    "from sklearn.preprocessing import StandardScaler, OneHotEncoder\n",
    "from sklearn.compose import ColumnTransformer"
   ]
  },
  {
   "cell_type": "code",
   "execution_count": 2,
   "id": "d9e78d99-3b0f-4e86-80c6-6ef147d8c5a0",
   "metadata": {},
   "outputs": [],
   "source": [
    "df = pd.read_csv('data/train.csv')\n",
    "df_pred = pd.read_csv('data/test.csv')"
   ]
  },
  {
   "cell_type": "code",
   "execution_count": 3,
   "id": "a0bce336-6d52-41c3-81c6-9f9a71240827",
   "metadata": {},
   "outputs": [
    {
     "data": {
      "text/html": [
       "<div>\n",
       "<style scoped>\n",
       "    .dataframe tbody tr th:only-of-type {\n",
       "        vertical-align: middle;\n",
       "    }\n",
       "\n",
       "    .dataframe tbody tr th {\n",
       "        vertical-align: top;\n",
       "    }\n",
       "\n",
       "    .dataframe thead th {\n",
       "        text-align: right;\n",
       "    }\n",
       "</style>\n",
       "<table border=\"1\" class=\"dataframe\">\n",
       "  <thead>\n",
       "    <tr style=\"text-align: right;\">\n",
       "      <th></th>\n",
       "      <th>id</th>\n",
       "      <th>date</th>\n",
       "      <th>country</th>\n",
       "      <th>store</th>\n",
       "      <th>product</th>\n",
       "      <th>num_sold</th>\n",
       "    </tr>\n",
       "  </thead>\n",
       "  <tbody>\n",
       "    <tr>\n",
       "      <th>0</th>\n",
       "      <td>0</td>\n",
       "      <td>2010-01-01</td>\n",
       "      <td>Canada</td>\n",
       "      <td>Discount Stickers</td>\n",
       "      <td>Holographic Goose</td>\n",
       "      <td>NaN</td>\n",
       "    </tr>\n",
       "    <tr>\n",
       "      <th>1</th>\n",
       "      <td>1</td>\n",
       "      <td>2010-01-01</td>\n",
       "      <td>Canada</td>\n",
       "      <td>Discount Stickers</td>\n",
       "      <td>Kaggle</td>\n",
       "      <td>973.0</td>\n",
       "    </tr>\n",
       "    <tr>\n",
       "      <th>2</th>\n",
       "      <td>2</td>\n",
       "      <td>2010-01-01</td>\n",
       "      <td>Canada</td>\n",
       "      <td>Discount Stickers</td>\n",
       "      <td>Kaggle Tiers</td>\n",
       "      <td>906.0</td>\n",
       "    </tr>\n",
       "    <tr>\n",
       "      <th>3</th>\n",
       "      <td>3</td>\n",
       "      <td>2010-01-01</td>\n",
       "      <td>Canada</td>\n",
       "      <td>Discount Stickers</td>\n",
       "      <td>Kerneler</td>\n",
       "      <td>423.0</td>\n",
       "    </tr>\n",
       "    <tr>\n",
       "      <th>4</th>\n",
       "      <td>4</td>\n",
       "      <td>2010-01-01</td>\n",
       "      <td>Canada</td>\n",
       "      <td>Discount Stickers</td>\n",
       "      <td>Kerneler Dark Mode</td>\n",
       "      <td>491.0</td>\n",
       "    </tr>\n",
       "    <tr>\n",
       "      <th>...</th>\n",
       "      <td>...</td>\n",
       "      <td>...</td>\n",
       "      <td>...</td>\n",
       "      <td>...</td>\n",
       "      <td>...</td>\n",
       "      <td>...</td>\n",
       "    </tr>\n",
       "    <tr>\n",
       "      <th>230125</th>\n",
       "      <td>230125</td>\n",
       "      <td>2016-12-31</td>\n",
       "      <td>Singapore</td>\n",
       "      <td>Premium Sticker Mart</td>\n",
       "      <td>Holographic Goose</td>\n",
       "      <td>466.0</td>\n",
       "    </tr>\n",
       "    <tr>\n",
       "      <th>230126</th>\n",
       "      <td>230126</td>\n",
       "      <td>2016-12-31</td>\n",
       "      <td>Singapore</td>\n",
       "      <td>Premium Sticker Mart</td>\n",
       "      <td>Kaggle</td>\n",
       "      <td>2907.0</td>\n",
       "    </tr>\n",
       "    <tr>\n",
       "      <th>230127</th>\n",
       "      <td>230127</td>\n",
       "      <td>2016-12-31</td>\n",
       "      <td>Singapore</td>\n",
       "      <td>Premium Sticker Mart</td>\n",
       "      <td>Kaggle Tiers</td>\n",
       "      <td>2299.0</td>\n",
       "    </tr>\n",
       "    <tr>\n",
       "      <th>230128</th>\n",
       "      <td>230128</td>\n",
       "      <td>2016-12-31</td>\n",
       "      <td>Singapore</td>\n",
       "      <td>Premium Sticker Mart</td>\n",
       "      <td>Kerneler</td>\n",
       "      <td>1242.0</td>\n",
       "    </tr>\n",
       "    <tr>\n",
       "      <th>230129</th>\n",
       "      <td>230129</td>\n",
       "      <td>2016-12-31</td>\n",
       "      <td>Singapore</td>\n",
       "      <td>Premium Sticker Mart</td>\n",
       "      <td>Kerneler Dark Mode</td>\n",
       "      <td>1622.0</td>\n",
       "    </tr>\n",
       "  </tbody>\n",
       "</table>\n",
       "<p>230130 rows × 6 columns</p>\n",
       "</div>"
      ],
      "text/plain": [
       "            id        date    country                 store  \\\n",
       "0            0  2010-01-01     Canada     Discount Stickers   \n",
       "1            1  2010-01-01     Canada     Discount Stickers   \n",
       "2            2  2010-01-01     Canada     Discount Stickers   \n",
       "3            3  2010-01-01     Canada     Discount Stickers   \n",
       "4            4  2010-01-01     Canada     Discount Stickers   \n",
       "...        ...         ...        ...                   ...   \n",
       "230125  230125  2016-12-31  Singapore  Premium Sticker Mart   \n",
       "230126  230126  2016-12-31  Singapore  Premium Sticker Mart   \n",
       "230127  230127  2016-12-31  Singapore  Premium Sticker Mart   \n",
       "230128  230128  2016-12-31  Singapore  Premium Sticker Mart   \n",
       "230129  230129  2016-12-31  Singapore  Premium Sticker Mart   \n",
       "\n",
       "                   product  num_sold  \n",
       "0        Holographic Goose       NaN  \n",
       "1                   Kaggle     973.0  \n",
       "2             Kaggle Tiers     906.0  \n",
       "3                 Kerneler     423.0  \n",
       "4       Kerneler Dark Mode     491.0  \n",
       "...                    ...       ...  \n",
       "230125   Holographic Goose     466.0  \n",
       "230126              Kaggle    2907.0  \n",
       "230127        Kaggle Tiers    2299.0  \n",
       "230128            Kerneler    1242.0  \n",
       "230129  Kerneler Dark Mode    1622.0  \n",
       "\n",
       "[230130 rows x 6 columns]"
      ]
     },
     "execution_count": 3,
     "metadata": {},
     "output_type": "execute_result"
    }
   ],
   "source": [
    "df"
   ]
  },
  {
   "cell_type": "code",
   "execution_count": 4,
   "id": "40a7dd5e-3ad9-46f1-a2b4-9a10c9897264",
   "metadata": {},
   "outputs": [],
   "source": [
    "# Привожу дату к типу pd.datetime\n",
    "df['date'] = pd.to_datetime(df['date'], format='%Y-%m-%d')\n",
    "df_pred['date'] = pd.to_datetime(df_pred['date'], format='%Y-%m-%d')"
   ]
  },
  {
   "cell_type": "code",
   "execution_count": 5,
   "id": "d943eb10-7ec7-48ee-9331-430235796559",
   "metadata": {},
   "outputs": [],
   "source": [
    "# Новые признаки из даты\n",
    "df['day'] = df.date.dt.day\n",
    "df['month'] = df.date.dt.month\n",
    "df['year'] = df.date.dt.year\n",
    "# df['quarter'] = df.date.dt.quarter\n",
    "# df['dayofyear'] = df.date.dt.dayofyear\n",
    "# df['weekday'] = df.date.dt.weekday\n",
    "\n",
    "df_pred['day'] = df_pred.date.dt.day\n",
    "df_pred['month'] = df_pred.date.dt.month\n",
    "df_pred['year'] = df_pred.date.dt.year\n",
    "# df_pred['quarter'] = df_pred.date.dt.quarter\n",
    "# df_pred['dayofyear'] = df_pred.date.dt.dayofyear\n",
    "# df_pred['weekday'] = df_pred.date.dt.weekday"
   ]
  },
  {
   "cell_type": "code",
   "execution_count": 8,
   "id": "80198602-528a-4da3-b948-bcbcbb16b460",
   "metadata": {},
   "outputs": [],
   "source": [
    "# Удаляю id\n",
    "df.drop(columns='id', inplace=True)\n",
    "df_pred.drop(columns='id', inplace=True)\n",
    "\n",
    "# Удаляю Nan значения\n",
    "df.dropna(subset=['num_sold'], inplace=True)"
   ]
  },
  {
   "cell_type": "code",
   "execution_count": 9,
   "id": "bacb5dbf-f2bf-4aa4-b9f2-b2475988b21d",
   "metadata": {
    "collapsed": true,
    "jupyter": {
     "outputs_hidden": true
    }
   },
   "outputs": [
    {
     "ename": "KeyError",
     "evalue": "\"['date'] not found in axis\"",
     "output_type": "error",
     "traceback": [
      "\u001b[1;31m---------------------------------------------------------------------------\u001b[0m",
      "\u001b[1;31mKeyError\u001b[0m                                  Traceback (most recent call last)",
      "Cell \u001b[1;32mIn[9], line 2\u001b[0m\n\u001b[0;32m      1\u001b[0m \u001b[38;5;66;03m# удаляю date\u001b[39;00m\n\u001b[1;32m----> 2\u001b[0m \u001b[43mdf\u001b[49m\u001b[38;5;241;43m.\u001b[39;49m\u001b[43mdrop\u001b[49m\u001b[43m(\u001b[49m\u001b[43mcolumns\u001b[49m\u001b[38;5;241;43m=\u001b[39;49m\u001b[38;5;124;43m'\u001b[39;49m\u001b[38;5;124;43mdate\u001b[39;49m\u001b[38;5;124;43m'\u001b[39;49m\u001b[43m,\u001b[49m\u001b[43m \u001b[49m\u001b[43minplace\u001b[49m\u001b[38;5;241;43m=\u001b[39;49m\u001b[38;5;28;43;01mTrue\u001b[39;49;00m\u001b[43m)\u001b[49m\n\u001b[0;32m      3\u001b[0m df_pred\u001b[38;5;241m.\u001b[39mdrop(columns\u001b[38;5;241m=\u001b[39m\u001b[38;5;124m'\u001b[39m\u001b[38;5;124mdate\u001b[39m\u001b[38;5;124m'\u001b[39m, inplace\u001b[38;5;241m=\u001b[39m\u001b[38;5;28;01mTrue\u001b[39;00m)\n",
      "File \u001b[1;32mD:\\Python\\project\\Forecasting-Sticker-Sales\\venv\\lib\\site-packages\\pandas\\core\\frame.py:5581\u001b[0m, in \u001b[0;36mDataFrame.drop\u001b[1;34m(self, labels, axis, index, columns, level, inplace, errors)\u001b[0m\n\u001b[0;32m   5433\u001b[0m \u001b[38;5;28;01mdef\u001b[39;00m\u001b[38;5;250m \u001b[39m\u001b[38;5;21mdrop\u001b[39m(\n\u001b[0;32m   5434\u001b[0m     \u001b[38;5;28mself\u001b[39m,\n\u001b[0;32m   5435\u001b[0m     labels: IndexLabel \u001b[38;5;241m|\u001b[39m \u001b[38;5;28;01mNone\u001b[39;00m \u001b[38;5;241m=\u001b[39m \u001b[38;5;28;01mNone\u001b[39;00m,\n\u001b[1;32m   (...)\u001b[0m\n\u001b[0;32m   5442\u001b[0m     errors: IgnoreRaise \u001b[38;5;241m=\u001b[39m \u001b[38;5;124m\"\u001b[39m\u001b[38;5;124mraise\u001b[39m\u001b[38;5;124m\"\u001b[39m,\n\u001b[0;32m   5443\u001b[0m ) \u001b[38;5;241m-\u001b[39m\u001b[38;5;241m>\u001b[39m DataFrame \u001b[38;5;241m|\u001b[39m \u001b[38;5;28;01mNone\u001b[39;00m:\n\u001b[0;32m   5444\u001b[0m \u001b[38;5;250m    \u001b[39m\u001b[38;5;124;03m\"\"\"\u001b[39;00m\n\u001b[0;32m   5445\u001b[0m \u001b[38;5;124;03m    Drop specified labels from rows or columns.\u001b[39;00m\n\u001b[0;32m   5446\u001b[0m \n\u001b[1;32m   (...)\u001b[0m\n\u001b[0;32m   5579\u001b[0m \u001b[38;5;124;03m            weight  1.0     0.8\u001b[39;00m\n\u001b[0;32m   5580\u001b[0m \u001b[38;5;124;03m    \"\"\"\u001b[39;00m\n\u001b[1;32m-> 5581\u001b[0m     \u001b[38;5;28;01mreturn\u001b[39;00m \u001b[38;5;28;43msuper\u001b[39;49m\u001b[43m(\u001b[49m\u001b[43m)\u001b[49m\u001b[38;5;241;43m.\u001b[39;49m\u001b[43mdrop\u001b[49m\u001b[43m(\u001b[49m\n\u001b[0;32m   5582\u001b[0m \u001b[43m        \u001b[49m\u001b[43mlabels\u001b[49m\u001b[38;5;241;43m=\u001b[39;49m\u001b[43mlabels\u001b[49m\u001b[43m,\u001b[49m\n\u001b[0;32m   5583\u001b[0m \u001b[43m        \u001b[49m\u001b[43maxis\u001b[49m\u001b[38;5;241;43m=\u001b[39;49m\u001b[43maxis\u001b[49m\u001b[43m,\u001b[49m\n\u001b[0;32m   5584\u001b[0m \u001b[43m        \u001b[49m\u001b[43mindex\u001b[49m\u001b[38;5;241;43m=\u001b[39;49m\u001b[43mindex\u001b[49m\u001b[43m,\u001b[49m\n\u001b[0;32m   5585\u001b[0m \u001b[43m        \u001b[49m\u001b[43mcolumns\u001b[49m\u001b[38;5;241;43m=\u001b[39;49m\u001b[43mcolumns\u001b[49m\u001b[43m,\u001b[49m\n\u001b[0;32m   5586\u001b[0m \u001b[43m        \u001b[49m\u001b[43mlevel\u001b[49m\u001b[38;5;241;43m=\u001b[39;49m\u001b[43mlevel\u001b[49m\u001b[43m,\u001b[49m\n\u001b[0;32m   5587\u001b[0m \u001b[43m        \u001b[49m\u001b[43minplace\u001b[49m\u001b[38;5;241;43m=\u001b[39;49m\u001b[43minplace\u001b[49m\u001b[43m,\u001b[49m\n\u001b[0;32m   5588\u001b[0m \u001b[43m        \u001b[49m\u001b[43merrors\u001b[49m\u001b[38;5;241;43m=\u001b[39;49m\u001b[43merrors\u001b[49m\u001b[43m,\u001b[49m\n\u001b[0;32m   5589\u001b[0m \u001b[43m    \u001b[49m\u001b[43m)\u001b[49m\n",
      "File \u001b[1;32mD:\\Python\\project\\Forecasting-Sticker-Sales\\venv\\lib\\site-packages\\pandas\\core\\generic.py:4788\u001b[0m, in \u001b[0;36mNDFrame.drop\u001b[1;34m(self, labels, axis, index, columns, level, inplace, errors)\u001b[0m\n\u001b[0;32m   4786\u001b[0m \u001b[38;5;28;01mfor\u001b[39;00m axis, labels \u001b[38;5;129;01min\u001b[39;00m axes\u001b[38;5;241m.\u001b[39mitems():\n\u001b[0;32m   4787\u001b[0m     \u001b[38;5;28;01mif\u001b[39;00m labels \u001b[38;5;129;01mis\u001b[39;00m \u001b[38;5;129;01mnot\u001b[39;00m \u001b[38;5;28;01mNone\u001b[39;00m:\n\u001b[1;32m-> 4788\u001b[0m         obj \u001b[38;5;241m=\u001b[39m \u001b[43mobj\u001b[49m\u001b[38;5;241;43m.\u001b[39;49m\u001b[43m_drop_axis\u001b[49m\u001b[43m(\u001b[49m\u001b[43mlabels\u001b[49m\u001b[43m,\u001b[49m\u001b[43m \u001b[49m\u001b[43maxis\u001b[49m\u001b[43m,\u001b[49m\u001b[43m \u001b[49m\u001b[43mlevel\u001b[49m\u001b[38;5;241;43m=\u001b[39;49m\u001b[43mlevel\u001b[49m\u001b[43m,\u001b[49m\u001b[43m \u001b[49m\u001b[43merrors\u001b[49m\u001b[38;5;241;43m=\u001b[39;49m\u001b[43merrors\u001b[49m\u001b[43m)\u001b[49m\n\u001b[0;32m   4790\u001b[0m \u001b[38;5;28;01mif\u001b[39;00m inplace:\n\u001b[0;32m   4791\u001b[0m     \u001b[38;5;28mself\u001b[39m\u001b[38;5;241m.\u001b[39m_update_inplace(obj)\n",
      "File \u001b[1;32mD:\\Python\\project\\Forecasting-Sticker-Sales\\venv\\lib\\site-packages\\pandas\\core\\generic.py:4830\u001b[0m, in \u001b[0;36mNDFrame._drop_axis\u001b[1;34m(self, labels, axis, level, errors, only_slice)\u001b[0m\n\u001b[0;32m   4828\u001b[0m         new_axis \u001b[38;5;241m=\u001b[39m axis\u001b[38;5;241m.\u001b[39mdrop(labels, level\u001b[38;5;241m=\u001b[39mlevel, errors\u001b[38;5;241m=\u001b[39merrors)\n\u001b[0;32m   4829\u001b[0m     \u001b[38;5;28;01melse\u001b[39;00m:\n\u001b[1;32m-> 4830\u001b[0m         new_axis \u001b[38;5;241m=\u001b[39m \u001b[43maxis\u001b[49m\u001b[38;5;241;43m.\u001b[39;49m\u001b[43mdrop\u001b[49m\u001b[43m(\u001b[49m\u001b[43mlabels\u001b[49m\u001b[43m,\u001b[49m\u001b[43m \u001b[49m\u001b[43merrors\u001b[49m\u001b[38;5;241;43m=\u001b[39;49m\u001b[43merrors\u001b[49m\u001b[43m)\u001b[49m\n\u001b[0;32m   4831\u001b[0m     indexer \u001b[38;5;241m=\u001b[39m axis\u001b[38;5;241m.\u001b[39mget_indexer(new_axis)\n\u001b[0;32m   4833\u001b[0m \u001b[38;5;66;03m# Case for non-unique axis\u001b[39;00m\n\u001b[0;32m   4834\u001b[0m \u001b[38;5;28;01melse\u001b[39;00m:\n",
      "File \u001b[1;32mD:\\Python\\project\\Forecasting-Sticker-Sales\\venv\\lib\\site-packages\\pandas\\core\\indexes\\base.py:7070\u001b[0m, in \u001b[0;36mIndex.drop\u001b[1;34m(self, labels, errors)\u001b[0m\n\u001b[0;32m   7068\u001b[0m \u001b[38;5;28;01mif\u001b[39;00m mask\u001b[38;5;241m.\u001b[39many():\n\u001b[0;32m   7069\u001b[0m     \u001b[38;5;28;01mif\u001b[39;00m errors \u001b[38;5;241m!=\u001b[39m \u001b[38;5;124m\"\u001b[39m\u001b[38;5;124mignore\u001b[39m\u001b[38;5;124m\"\u001b[39m:\n\u001b[1;32m-> 7070\u001b[0m         \u001b[38;5;28;01mraise\u001b[39;00m \u001b[38;5;167;01mKeyError\u001b[39;00m(\u001b[38;5;124mf\u001b[39m\u001b[38;5;124m\"\u001b[39m\u001b[38;5;132;01m{\u001b[39;00mlabels[mask]\u001b[38;5;241m.\u001b[39mtolist()\u001b[38;5;132;01m}\u001b[39;00m\u001b[38;5;124m not found in axis\u001b[39m\u001b[38;5;124m\"\u001b[39m)\n\u001b[0;32m   7071\u001b[0m     indexer \u001b[38;5;241m=\u001b[39m indexer[\u001b[38;5;241m~\u001b[39mmask]\n\u001b[0;32m   7072\u001b[0m \u001b[38;5;28;01mreturn\u001b[39;00m \u001b[38;5;28mself\u001b[39m\u001b[38;5;241m.\u001b[39mdelete(indexer)\n",
      "\u001b[1;31mKeyError\u001b[0m: \"['date'] not found in axis\""
     ]
    }
   ],
   "source": [
    "# удаляю date\n",
    "df.drop(columns='date', inplace=True)\n",
    "df_pred.drop(columns='date', inplace=True)"
   ]
  },
  {
   "cell_type": "code",
   "execution_count": 10,
   "id": "31100590-0e32-4b1b-9316-5f0e73a94b45",
   "metadata": {},
   "outputs": [],
   "source": [
    "def cat_val(df, column):\n",
    "    uniq = df[column].unique()\n",
    "    for i in uniq:\n",
    "        df[i] = df[column].apply(lambda x: x == i)\n",
    "    df.drop(columns=column, inplace=True)\n",
    "\n",
    "\n",
    "for i in ['country', 'store', 'product']:\n",
    "    cat_val(df, i)\n",
    "    cat_val(df_pred, i)"
   ]
  },
  {
   "cell_type": "code",
   "execution_count": 12,
   "id": "65fc9518-6d1d-4052-ac48-2f0eb5c766a4",
   "metadata": {},
   "outputs": [],
   "source": [
    "X = df.drop(columns='num_sold')\n",
    "y = df['num_sold']\n",
    "\n",
    "X_train, X_test, y_train, y_test = train_test_split(X, y, test_size=0.2, random_state=42)"
   ]
  },
  {
   "cell_type": "code",
   "execution_count": 15,
   "id": "9d1f134f-d209-4600-b383-5ee0e52487e3",
   "metadata": {
    "collapsed": true,
    "jupyter": {
     "outputs_hidden": true
    }
   },
   "outputs": [
    {
     "name": "stderr",
     "output_type": "stream",
     "text": [
      "[I 2025-01-19 15:31:46,528] A new study created in memory with name: no-name-0cd2129c-5945-4b8e-8240-95890482cc16\n",
      "[I 2025-01-19 15:31:49,856] Trial 0 finished with value: 0.5027828467097253 and parameters: {'learning_rate': 0.04261862924223396, 'n_estimators': 302, 'lambda_l1': 1.3439355108973337, 'lambda_l2': 2.7287957037188385e-07, 'max_depth': 9, 'min_child_samples': 6, 'feature_fraction': 0.4173547702458782, 'bagging_fraction': 0.8865583370411187}. Best is trial 0 with value: 0.5027828467097253.\n",
      "[I 2025-01-19 15:31:54,737] Trial 1 finished with value: 0.1773305523038653 and parameters: {'learning_rate': 0.07722046500570272, 'n_estimators': 502, 'lambda_l1': 1.1391594245993499e-07, 'lambda_l2': 0.000856645513222102, 'max_depth': 12, 'min_child_samples': 19, 'feature_fraction': 0.5148953469947037, 'bagging_fraction': 0.7273081550528255}. Best is trial 1 with value: 0.1773305523038653.\n",
      "[I 2025-01-19 15:31:58,398] Trial 2 finished with value: 0.4069341465518046 and parameters: {'learning_rate': 0.018077849760802317, 'n_estimators': 323, 'lambda_l1': 0.08270845449295276, 'lambda_l2': 0.11303529107994358, 'max_depth': 17, 'min_child_samples': 27, 'feature_fraction': 0.5175030772120743, 'bagging_fraction': 0.8285043287352388}. Best is trial 1 with value: 0.1773305523038653.\n",
      "[I 2025-01-19 15:32:09,282] Trial 3 finished with value: 0.15566770881877373 and parameters: {'learning_rate': 0.011247104833618486, 'n_estimators': 869, 'lambda_l1': 2.5770821854333804e-05, 'lambda_l2': 0.057015037362486976, 'max_depth': 22, 'min_child_samples': 22, 'feature_fraction': 0.8945638503570132, 'bagging_fraction': 0.49952236464940053}. Best is trial 3 with value: 0.15566770881877373.\n",
      "[I 2025-01-19 15:32:18,478] Trial 4 finished with value: 0.14637187602001633 and parameters: {'learning_rate': 0.02858677482964954, 'n_estimators': 934, 'lambda_l1': 0.0064945745297878285, 'lambda_l2': 2.4436687653148617e-06, 'max_depth': 24, 'min_child_samples': 44, 'feature_fraction': 0.8641816159214866, 'bagging_fraction': 0.6691261798361459}. Best is trial 4 with value: 0.14637187602001633.\n",
      "[I 2025-01-19 15:32:24,601] Trial 5 finished with value: 0.18319937559149355 and parameters: {'learning_rate': 0.054344944847914266, 'n_estimators': 582, 'lambda_l1': 1.5875121469504417e-08, 'lambda_l2': 3.147247865750771e-06, 'max_depth': 10, 'min_child_samples': 10, 'feature_fraction': 0.5490615176407806, 'bagging_fraction': 0.4385266813072304}. Best is trial 4 with value: 0.14637187602001633.\n",
      "[I 2025-01-19 15:32:26,869] Trial 6 finished with value: 0.15225745891041745 and parameters: {'learning_rate': 0.06066208844050179, 'n_estimators': 246, 'lambda_l1': 0.0008258864155972007, 'lambda_l2': 0.18516955984029715, 'max_depth': 25, 'min_child_samples': 46, 'feature_fraction': 0.7377049384390577, 'bagging_fraction': 0.6386283396880579}. Best is trial 4 with value: 0.14637187602001633.\n",
      "[I 2025-01-19 15:32:34,189] Trial 7 finished with value: 0.21557568088861248 and parameters: {'learning_rate': 0.060896349940884234, 'n_estimators': 626, 'lambda_l1': 0.04343368119774714, 'lambda_l2': 2.2756221902562665e-07, 'max_depth': 20, 'min_child_samples': 41, 'feature_fraction': 0.40168604083691317, 'bagging_fraction': 0.9518503829252354}. Best is trial 4 with value: 0.14637187602001633.\n",
      "[I 2025-01-19 15:32:36,698] Trial 8 finished with value: 0.18085333731509048 and parameters: {'learning_rate': 0.03429760305184499, 'n_estimators': 244, 'lambda_l1': 0.0001201682755499211, 'lambda_l2': 0.009214317669979438, 'max_depth': 7, 'min_child_samples': 35, 'feature_fraction': 0.9224561692604738, 'bagging_fraction': 0.4887978906947329}. Best is trial 4 with value: 0.14637187602001633.\n",
      "[I 2025-01-19 15:32:45,530] Trial 9 finished with value: 0.14637507660561808 and parameters: {'learning_rate': 0.033379558177519156, 'n_estimators': 907, 'lambda_l1': 0.025386025131836187, 'lambda_l2': 2.25308042229021, 'max_depth': 17, 'min_child_samples': 13, 'feature_fraction': 0.8442548083020498, 'bagging_fraction': 0.6235411501901177}. Best is trial 4 with value: 0.14637187602001633.\n",
      "[I 2025-01-19 15:32:55,713] Trial 10 finished with value: 0.15581783971181734 and parameters: {'learning_rate': 0.021271856770740866, 'n_estimators': 996, 'lambda_l1': 5.41662569107327e-06, 'lambda_l2': 7.71334628543365e-06, 'max_depth': 25, 'min_child_samples': 49, 'feature_fraction': 0.9893037240980007, 'bagging_fraction': 0.7519490402511321}. Best is trial 4 with value: 0.14637187602001633.\n",
      "[I 2025-01-19 15:33:04,461] Trial 11 finished with value: 0.14250954316105804 and parameters: {'learning_rate': 0.025196847531762986, 'n_estimators': 788, 'lambda_l1': 0.005197016328121804, 'lambda_l2': 4.936797180776732, 'max_depth': 16, 'min_child_samples': 15, 'feature_fraction': 0.7887940638850628, 'bagging_fraction': 0.6116432044128353}. Best is trial 11 with value: 0.14250954316105804.\n",
      "[I 2025-01-19 15:33:13,604] Trial 12 finished with value: 0.14975870580338127 and parameters: {'learning_rate': 0.020092287430405607, 'n_estimators': 757, 'lambda_l1': 0.002320603378256917, 'lambda_l2': 8.219480497572195e-05, 'max_depth': 14, 'min_child_samples': 35, 'feature_fraction': 0.7572172952720263, 'bagging_fraction': 0.5847062500795479}. Best is trial 11 with value: 0.14250954316105804.\n",
      "[I 2025-01-19 15:33:22,077] Trial 13 finished with value: 0.17187088445040705 and parameters: {'learning_rate': 0.025068719282129132, 'n_estimators': 745, 'lambda_l1': 1.417999444992037, 'lambda_l2': 1.2664001402211762e-08, 'max_depth': 20, 'min_child_samples': 18, 'feature_fraction': 0.6610717654575273, 'bagging_fraction': 0.5555349750903972}. Best is trial 11 with value: 0.14250954316105804.\n",
      "[I 2025-01-19 15:33:31,268] Trial 14 finished with value: 0.2730403162848377 and parameters: {'learning_rate': 0.014084994101182007, 'n_estimators': 766, 'lambda_l1': 0.005918396937473475, 'lambda_l2': 2.9259457114636587, 'max_depth': 5, 'min_child_samples': 32, 'feature_fraction': 0.8133663704510016, 'bagging_fraction': 0.6818206616220629}. Best is trial 11 with value: 0.14250954316105804.\n",
      "[I 2025-01-19 15:33:41,948] Trial 15 finished with value: 0.16118401603558308 and parameters: {'learning_rate': 0.026970784910815837, 'n_estimators': 987, 'lambda_l1': 7.091415693640478, 'lambda_l2': 0.0003382050662893692, 'max_depth': 16, 'min_child_samples': 42, 'feature_fraction': 0.65150004635169, 'bagging_fraction': 0.7695933272873481}. Best is trial 11 with value: 0.14250954316105804.\n",
      "[I 2025-01-19 15:33:47,105] Trial 16 finished with value: 0.17063636601402046 and parameters: {'learning_rate': 0.015199895153375841, 'n_estimators': 448, 'lambda_l1': 6.48273907105498e-07, 'lambda_l2': 1.7841211334120303e-05, 'max_depth': 20, 'min_child_samples': 29, 'feature_fraction': 0.9994836774872664, 'bagging_fraction': 0.6842344117605854}. Best is trial 11 with value: 0.14250954316105804.\n",
      "[I 2025-01-19 15:33:55,625] Trial 17 finished with value: 0.14361981365572535 and parameters: {'learning_rate': 0.04049084105391044, 'n_estimators': 849, 'lambda_l1': 0.00011177754722087084, 'lambda_l2': 0.00238729324845365, 'max_depth': 22, 'min_child_samples': 25, 'feature_fraction': 0.8051228510048106, 'bagging_fraction': 0.5392160041417065}. Best is trial 11 with value: 0.14250954316105804.\n",
      "[I 2025-01-19 15:34:02,646] Trial 18 finished with value: 0.14101597027466098 and parameters: {'learning_rate': 0.04150945706882638, 'n_estimators': 695, 'lambda_l1': 9.766288254329745e-05, 'lambda_l2': 0.003740887742953889, 'max_depth': 14, 'min_child_samples': 23, 'feature_fraction': 0.7881284369441229, 'bagging_fraction': 0.5728237793718782}. Best is trial 18 with value: 0.14101597027466098.\n",
      "[I 2025-01-19 15:34:08,177] Trial 19 finished with value: 0.14605280710978732 and parameters: {'learning_rate': 0.09770025728427417, 'n_estimators': 651, 'lambda_l1': 6.061887725770745e-06, 'lambda_l2': 0.011699539214483046, 'max_depth': 14, 'min_child_samples': 15, 'feature_fraction': 0.6933961389768282, 'bagging_fraction': 0.40624658444327105}. Best is trial 18 with value: 0.14101597027466098.\n",
      "[I 2025-01-19 15:34:09,771] Trial 20 finished with value: 0.26315271901589404 and parameters: {'learning_rate': 0.04376482298504338, 'n_estimators': 133, 'lambda_l1': 0.0006324190060648905, 'lambda_l2': 0.6656554770306524, 'max_depth': 11, 'min_child_samples': 5, 'feature_fraction': 0.6239794909548483, 'bagging_fraction': 0.5945803555565928}. Best is trial 18 with value: 0.14101597027466098.\n",
      "[I 2025-01-19 15:34:18,031] Trial 21 finished with value: 0.14153431068847158 and parameters: {'learning_rate': 0.04055383065460632, 'n_estimators': 830, 'lambda_l1': 5.23463996500959e-05, 'lambda_l2': 0.0024198990230121947, 'max_depth': 13, 'min_child_samples': 24, 'feature_fraction': 0.7936294454429013, 'bagging_fraction': 0.5310773546795341}. Best is trial 18 with value: 0.14101597027466098.\n",
      "[I 2025-01-19 15:34:24,721] Trial 22 finished with value: 0.14544854385793804 and parameters: {'learning_rate': 0.04694137575430614, 'n_estimators': 688, 'lambda_l1': 3.615975124202978e-05, 'lambda_l2': 0.007447486450296815, 'max_depth': 13, 'min_child_samples': 22, 'feature_fraction': 0.7664687669066216, 'bagging_fraction': 0.4997452175040489}. Best is trial 18 with value: 0.14101597027466098.\n",
      "[I 2025-01-19 15:34:33,457] Trial 23 finished with value: 0.15117391751826734 and parameters: {'learning_rate': 0.02368145719041919, 'n_estimators': 817, 'lambda_l1': 4.365945330250248e-06, 'lambda_l2': 7.111360065616426e-05, 'max_depth': 16, 'min_child_samples': 17, 'feature_fraction': 0.9352137843714459, 'bagging_fraction': 0.5438807301852826}. Best is trial 18 with value: 0.14101597027466098.\n",
      "[I 2025-01-19 15:34:39,132] Trial 24 finished with value: 0.1523664911314164 and parameters: {'learning_rate': 0.035567190720852786, 'n_estimators': 527, 'lambda_l1': 0.0002610217021705026, 'lambda_l2': 0.03283454927449434, 'max_depth': 18, 'min_child_samples': 23, 'feature_fraction': 0.7163347813200761, 'bagging_fraction': 0.4549219722652252}. Best is trial 18 with value: 0.14101597027466098.\n",
      "[I 2025-01-19 15:34:45,853] Trial 25 finished with value: 0.1457897419193398 and parameters: {'learning_rate': 0.05325382351402112, 'n_estimators': 714, 'lambda_l1': 2.2174095444869705e-05, 'lambda_l2': 7.379208079553511, 'max_depth': 14, 'min_child_samples': 11, 'feature_fraction': 0.7877390883705561, 'bagging_fraction': 0.6033349930442161}. Best is trial 18 with value: 0.14101597027466098.\n",
      "[I 2025-01-19 15:34:53,162] Trial 26 finished with value: 0.16807932907572534 and parameters: {'learning_rate': 0.0698659634987626, 'n_estimators': 810, 'lambda_l1': 1.0668482564991123e-06, 'lambda_l2': 0.48885508984205966, 'max_depth': 8, 'min_child_samples': 30, 'feature_fraction': 0.8510825881510911, 'bagging_fraction': 0.6454949478631604}. Best is trial 18 with value: 0.14101597027466098.\n",
      "[I 2025-01-19 15:35:00,316] Trial 27 finished with value: 0.18740894973865252 and parameters: {'learning_rate': 0.033317171727962426, 'n_estimators': 609, 'lambda_l1': 0.234120198317412, 'lambda_l2': 0.0005588603306923074, 'max_depth': 12, 'min_child_samples': 20, 'feature_fraction': 0.5886242355038743, 'bagging_fraction': 0.557263275820678}. Best is trial 18 with value: 0.14101597027466098.\n",
      "[I 2025-01-19 15:35:04,835] Trial 28 finished with value: 0.16208130039241256 and parameters: {'learning_rate': 0.029666058531407014, 'n_estimators': 431, 'lambda_l1': 0.003461969274464983, 'lambda_l2': 0.001522032982002344, 'max_depth': 15, 'min_child_samples': 25, 'feature_fraction': 0.697278053449337, 'bagging_fraction': 0.5059876030564553}. Best is trial 18 with value: 0.14101597027466098.\n",
      "[I 2025-01-19 15:35:11,424] Trial 29 finished with value: 0.14515377124752032 and parameters: {'learning_rate': 0.038887704032977435, 'n_estimators': 677, 'lambda_l1': 0.0013526187152744886, 'lambda_l2': 0.00011226034869181374, 'max_depth': 10, 'min_child_samples': 9, 'feature_fraction': 0.8182312292925369, 'bagging_fraction': 0.8086353300483029}. Best is trial 18 with value: 0.14101597027466098.\n",
      "[I 2025-01-19 15:35:19,603] Trial 30 finished with value: 0.14097057869959626 and parameters: {'learning_rate': 0.047714006826007294, 'n_estimators': 899, 'lambda_l1': 0.0001929748475739418, 'lambda_l2': 5.74586049714391e-07, 'max_depth': 18, 'min_child_samples': 14, 'feature_fraction': 0.8817041250089519, 'bagging_fraction': 0.7184570257644656}. Best is trial 30 with value: 0.14097057869959626.\n",
      "[I 2025-01-19 15:35:27,826] Trial 31 finished with value: 0.15193361561256127 and parameters: {'learning_rate': 0.043415208403394086, 'n_estimators': 910, 'lambda_l1': 0.00013758355225861412, 'lambda_l2': 3.278132884922393e-07, 'max_depth': 18, 'min_child_samples': 14, 'feature_fraction': 0.8837199800187894, 'bagging_fraction': 0.7010599640072981}. Best is trial 30 with value: 0.14097057869959626.\n",
      "[I 2025-01-19 15:35:35,135] Trial 32 finished with value: 0.14536592240133295 and parameters: {'learning_rate': 0.04716387562911145, 'n_estimators': 812, 'lambda_l1': 0.013613211991730167, 'lambda_l2': 1.570255977690742e-08, 'max_depth': 12, 'min_child_samples': 7, 'feature_fraction': 0.9520280140549156, 'bagging_fraction': 0.7189851238340668}. Best is trial 30 with value: 0.14097057869959626.\n",
      "[I 2025-01-19 15:35:42,657] Trial 33 finished with value: 0.15305078553043075 and parameters: {'learning_rate': 0.07879139926948285, 'n_estimators': 865, 'lambda_l1': 4.7866360137273145e-05, 'lambda_l2': 9.967210331224285e-08, 'max_depth': 18, 'min_child_samples': 18, 'feature_fraction': 0.7653429661525198, 'bagging_fraction': 0.8905141620883275}. Best is trial 30 with value: 0.14097057869959626.\n",
      "[I 2025-01-19 15:35:50,942] Trial 34 finished with value: 0.14393621261424439 and parameters: {'learning_rate': 0.050728045117588584, 'n_estimators': 931, 'lambda_l1': 0.000413509806765011, 'lambda_l2': 0.0030301280704217296, 'max_depth': 16, 'min_child_samples': 16, 'feature_fraction': 0.9042073479997287, 'bagging_fraction': 0.7975687208822717}. Best is trial 30 with value: 0.14097057869959626.\n",
      "[I 2025-01-19 15:35:58,650] Trial 35 finished with value: 0.14368814194622404 and parameters: {'learning_rate': 0.03764632902620741, 'n_estimators': 780, 'lambda_l1': 0.29752995847322455, 'lambda_l2': 1.800137872169544e-05, 'max_depth': 13, 'min_child_samples': 21, 'feature_fraction': 0.8218049869729507, 'bagging_fraction': 0.5785980378899054}. Best is trial 30 with value: 0.14097057869959626.\n",
      "[I 2025-01-19 15:36:05,882] Trial 36 finished with value: 0.15309521515127497 and parameters: {'learning_rate': 0.029568272876220422, 'n_estimators': 706, 'lambda_l1': 1.8164223668724873e-06, 'lambda_l2': 0.042653434921373565, 'max_depth': 19, 'min_child_samples': 26, 'feature_fraction': 0.8588906379153847, 'bagging_fraction': 0.6532689413439096}. Best is trial 30 with value: 0.14097057869959626.\n",
      "[I 2025-01-19 15:36:13,792] Trial 37 finished with value: 0.1461422102399293 and parameters: {'learning_rate': 0.07065528138655411, 'n_estimators': 878, 'lambda_l1': 1.4620255363349707e-07, 'lambda_l2': 1.2799890187472292e-06, 'max_depth': 22, 'min_child_samples': 12, 'feature_fraction': 0.7289741674376433, 'bagging_fraction': 0.6140904340836771}. Best is trial 30 with value: 0.14097057869959626.\n",
      "[I 2025-01-19 15:36:24,547] Trial 38 finished with value: 0.15017476345795966 and parameters: {'learning_rate': 0.017664343670034253, 'n_estimators': 959, 'lambda_l1': 1.7850207985210377e-05, 'lambda_l2': 0.2841545139359363, 'max_depth': 15, 'min_child_samples': 23, 'feature_fraction': 0.7827292982839236, 'bagging_fraction': 0.5145747314296385}. Best is trial 30 with value: 0.14097057869959626.\n",
      "[I 2025-01-19 15:36:30,807] Trial 39 finished with value: 0.1942931002274892 and parameters: {'learning_rate': 0.060155080879174296, 'n_estimators': 585, 'lambda_l1': 0.0013934658413563713, 'lambda_l2': 0.0007717781148362571, 'max_depth': 11, 'min_child_samples': 9, 'feature_fraction': 0.46103282074699603, 'bagging_fraction': 0.7319365229096427}. Best is trial 30 with value: 0.14097057869959626.\n",
      "[I 2025-01-19 15:36:39,578] Trial 40 finished with value: 0.15106313240217428 and parameters: {'learning_rate': 0.02465596183889213, 'n_estimators': 817, 'lambda_l1': 0.013459960017972802, 'lambda_l2': 0.07258981026085808, 'max_depth': 13, 'min_child_samples': 28, 'feature_fraction': 0.8889744119687057, 'bagging_fraction': 0.47228957152755674}. Best is trial 30 with value: 0.14097057869959626.\n",
      "[I 2025-01-19 15:36:47,684] Trial 41 finished with value: 0.14840312190845276 and parameters: {'learning_rate': 0.03976671496517141, 'n_estimators': 846, 'lambda_l1': 0.00012222436560788055, 'lambda_l2': 0.0035144344359096745, 'max_depth': 22, 'min_child_samples': 25, 'feature_fraction': 0.8041564694628405, 'bagging_fraction': 0.5313947401778332}. Best is trial 30 with value: 0.14097057869959626.\n",
      "[I 2025-01-19 15:36:56,255] Trial 42 finished with value: 0.1435493894269122 and parameters: {'learning_rate': 0.04092302568238425, 'n_estimators': 877, 'lambda_l1': 9.57810986419742e-05, 'lambda_l2': 0.016061027348361012, 'max_depth': 23, 'min_child_samples': 33, 'feature_fraction': 0.7385726420888928, 'bagging_fraction': 0.5722266192337169}. Best is trial 30 with value: 0.14097057869959626.\n",
      "[I 2025-01-19 15:37:06,556] Trial 43 finished with value: 0.1458302698839424 and parameters: {'learning_rate': 0.03137841577659761, 'n_estimators': 906, 'lambda_l1': 0.0003976851203689179, 'lambda_l2': 0.019808259610064795, 'max_depth': 17, 'min_child_samples': 38, 'feature_fraction': 0.740678405158713, 'bagging_fraction': 0.630794446564821}. Best is trial 30 with value: 0.14097057869959626.\n",
      "[I 2025-01-19 15:37:14,971] Trial 44 finished with value: 0.14813402807583007 and parameters: {'learning_rate': 0.04903741476313872, 'n_estimators': 728, 'lambda_l1': 1.389655154476853e-05, 'lambda_l2': 0.0001970151572218057, 'max_depth': 24, 'min_child_samples': 32, 'feature_fraction': 0.6764605318893747, 'bagging_fraction': 0.5761352497603035}. Best is trial 30 with value: 0.14097057869959626.\n",
      "[I 2025-01-19 15:37:22,751] Trial 45 finished with value: 0.15269140763659944 and parameters: {'learning_rate': 0.05612225877387987, 'n_estimators': 786, 'lambda_l1': 8.989317341251369e-05, 'lambda_l2': 0.12351277736501078, 'max_depth': 21, 'min_child_samples': 35, 'feature_fraction': 0.8372354564060315, 'bagging_fraction': 0.6635895476259386}. Best is trial 30 with value: 0.14097057869959626.\n",
      "[I 2025-01-19 15:37:31,752] Trial 46 finished with value: 0.14672256308843243 and parameters: {'learning_rate': 0.04272846889906455, 'n_estimators': 882, 'lambda_l1': 9.713916560711702e-06, 'lambda_l2': 1.5174361673023848, 'max_depth': 23, 'min_child_samples': 31, 'feature_fraction': 0.7448594499766066, 'bagging_fraction': 0.8687910241412516}. Best is trial 30 with value: 0.14097057869959626.\n",
      "[I 2025-01-19 15:37:41,403] Trial 47 finished with value: 0.14961900882729087 and parameters: {'learning_rate': 0.03592221019444878, 'n_estimators': 951, 'lambda_l1': 4.550543640332737e-05, 'lambda_l2': 0.005166256320646091, 'max_depth': 17, 'min_child_samples': 20, 'feature_fraction': 0.8712447777693265, 'bagging_fraction': 0.4264930314121657}. Best is trial 30 with value: 0.14097057869959626.\n",
      "[I 2025-01-19 15:37:49,761] Trial 48 finished with value: 0.2037952703555119 and parameters: {'learning_rate': 0.010267713797353924, 'n_estimators': 644, 'lambda_l1': 0.00023637913318048684, 'lambda_l2': 2.2495899733655046e-05, 'max_depth': 19, 'min_child_samples': 34, 'feature_fraction': 0.7905341360913413, 'bagging_fraction': 0.4765462875545937}. Best is trial 30 with value: 0.14097057869959626.\n",
      "[I 2025-01-19 15:37:59,928] Trial 49 finished with value: 0.1493241323586325 and parameters: {'learning_rate': 0.021611257058285885, 'n_estimators': 980, 'lambda_l1': 0.0031843183067438137, 'lambda_l2': 0.0012873772777194442, 'max_depth': 15, 'min_child_samples': 39, 'feature_fraction': 0.9169245975785411, 'bagging_fraction': 0.5708190277134937}. Best is trial 30 with value: 0.14097057869959626.\n",
      "[I 2025-01-19 15:38:07,907] Trial 50 finished with value: 0.16396269591426324 and parameters: {'learning_rate': 0.026690870281534565, 'n_estimators': 728, 'lambda_l1': 0.0011387152799145351, 'lambda_l2': 8.330364356354435, 'max_depth': 10, 'min_child_samples': 27, 'feature_fraction': 0.9592055017497936, 'bagging_fraction': 0.6195693102447745}. Best is trial 30 with value: 0.14097057869959626.\n",
      "[I 2025-01-19 15:38:16,114] Trial 51 finished with value: 0.13507525830029007 and parameters: {'learning_rate': 0.0404170238997815, 'n_estimators': 840, 'lambda_l1': 9.118362825184326e-05, 'lambda_l2': 0.016348290178264047, 'max_depth': 24, 'min_child_samples': 23, 'feature_fraction': 0.8338376403327449, 'bagging_fraction': 0.5283320445126903}. Best is trial 51 with value: 0.13507525830029007.\n",
      "[I 2025-01-19 15:38:23,374] Trial 52 finished with value: 0.1411881601707001 and parameters: {'learning_rate': 0.045587681080037405, 'n_estimators': 766, 'lambda_l1': 5.60493837796282e-05, 'lambda_l2': 0.013083161425060405, 'max_depth': 25, 'min_child_samples': 19, 'feature_fraction': 0.8389498242097668, 'bagging_fraction': 0.5255882488507855}. Best is trial 51 with value: 0.13507525830029007.\n",
      "[I 2025-01-19 15:38:30,626] Trial 53 finished with value: 0.1487495798558544 and parameters: {'learning_rate': 0.04527843945221292, 'n_estimators': 765, 'lambda_l1': 5.396433739328074e-05, 'lambda_l2': 0.00032895832166878326, 'max_depth': 25, 'min_child_samples': 19, 'feature_fraction': 0.8395818859383762, 'bagging_fraction': 0.5334587625268629}. Best is trial 51 with value: 0.13507525830029007.\n",
      "[I 2025-01-19 15:38:39,231] Trial 54 finished with value: 0.14201736671757073 and parameters: {'learning_rate': 0.03228268487101883, 'n_estimators': 839, 'lambda_l1': 2.2157143710553163e-06, 'lambda_l2': 0.028318450132405318, 'max_depth': 24, 'min_child_samples': 15, 'feature_fraction': 0.8264081309887792, 'bagging_fraction': 0.5204685152686148}. Best is trial 51 with value: 0.13507525830029007.\n",
      "[I 2025-01-19 15:38:46,608] Trial 55 finished with value: 0.1428041649278079 and parameters: {'learning_rate': 0.057183296091882635, 'n_estimators': 832, 'lambda_l1': 3.2034846248898467e-07, 'lambda_l2': 0.030600012952746246, 'max_depth': 24, 'min_child_samples': 13, 'feature_fraction': 0.8691320339546471, 'bagging_fraction': 0.43697827502431613}. Best is trial 51 with value: 0.13507525830029007.\n",
      "[I 2025-01-19 15:38:55,618] Trial 56 finished with value: 0.14110634269155883 and parameters: {'learning_rate': 0.033761669210572505, 'n_estimators': 914, 'lambda_l1': 4.933942450831136e-08, 'lambda_l2': 0.007505511491546655, 'max_depth': 25, 'min_child_samples': 23, 'feature_fraction': 0.8411737702160811, 'bagging_fraction': 0.4584708008788608}. Best is trial 51 with value: 0.13507525830029007.\n",
      "[I 2025-01-19 15:39:03,976] Trial 57 finished with value: 0.15373859305516993 and parameters: {'learning_rate': 0.0514799137023617, 'n_estimators': 916, 'lambda_l1': 3.6793975302727227e-08, 'lambda_l2': 0.012461880396768762, 'max_depth': 25, 'min_child_samples': 23, 'feature_fraction': 0.9365000644076912, 'bagging_fraction': 0.4647079231902078}. Best is trial 51 with value: 0.13507525830029007.\n",
      "[I 2025-01-19 15:39:11,064] Trial 58 finished with value: 0.15031819820639644 and parameters: {'learning_rate': 0.036881821635533794, 'n_estimators': 675, 'lambda_l1': 3.23228178990738e-08, 'lambda_l2': 0.007837926569410378, 'max_depth': 23, 'min_child_samples': 24, 'feature_fraction': 0.9034896482145396, 'bagging_fraction': 0.4001684761005391}. Best is trial 51 with value: 0.13507525830029007.\n",
      "[I 2025-01-19 15:39:17,859] Trial 59 finished with value: 0.14933645658266342 and parameters: {'learning_rate': 0.06601530441013156, 'n_estimators': 747, 'lambda_l1': 4.653567713490025e-06, 'lambda_l2': 0.001662460473654152, 'max_depth': 25, 'min_child_samples': 20, 'feature_fraction': 0.7665339253767642, 'bagging_fraction': 0.4985451826463202}. Best is trial 51 with value: 0.13507525830029007.\n",
      "[I 2025-01-19 15:39:27,144] Trial 60 finished with value: 0.14485985306404817 and parameters: {'learning_rate': 0.034805743788510375, 'n_estimators': 993, 'lambda_l1': 1.2792677981774775e-08, 'lambda_l2': 0.11490985478597168, 'max_depth': 21, 'min_child_samples': 17, 'feature_fraction': 0.8560959720112157, 'bagging_fraction': 0.4481698185726088}. Best is trial 51 with value: 0.13507525830029007.\n",
      "[I 2025-01-19 15:39:35,788] Trial 61 finished with value: 0.1393199340671825 and parameters: {'learning_rate': 0.03183302507293227, 'n_estimators': 841, 'lambda_l1': 2.8557506918523513e-06, 'lambda_l2': 0.06427780915914999, 'max_depth': 24, 'min_child_samples': 15, 'feature_fraction': 0.8367982793851827, 'bagging_fraction': 0.5154691702824111}. Best is trial 51 with value: 0.13507525830029007.\n",
      "[I 2025-01-19 15:39:44,940] Trial 62 finished with value: 0.14226602592891305 and parameters: {'learning_rate': 0.030707912520284052, 'n_estimators': 792, 'lambda_l1': 2.2895698073856856e-07, 'lambda_l2': 0.006059254078955053, 'max_depth': 23, 'min_child_samples': 18, 'feature_fraction': 0.8012709350700518, 'bagging_fraction': 0.4888645591620489}. Best is trial 51 with value: 0.13507525830029007.\n",
      "[I 2025-01-19 15:39:53,585] Trial 63 finished with value: 0.1437024711257703 and parameters: {'learning_rate': 0.04658743078646201, 'n_estimators': 880, 'lambda_l1': 0.00020087599005732127, 'lambda_l2': 0.08423095126683527, 'max_depth': 25, 'min_child_samples': 21, 'feature_fraction': 0.8798167623503385, 'bagging_fraction': 0.5529789722748139}. Best is trial 51 with value: 0.13507525830029007.\n",
      "[I 2025-01-19 15:40:03,361] Trial 64 finished with value: 0.14385449983479864 and parameters: {'learning_rate': 0.02833480860861312, 'n_estimators': 946, 'lambda_l1': 9.332155544589219e-06, 'lambda_l2': 0.29323098200772546, 'max_depth': 24, 'min_child_samples': 27, 'feature_fraction': 0.8397075242539721, 'bagging_fraction': 0.4188549921310837}. Best is trial 51 with value: 0.13507525830029007.\n",
      "[I 2025-01-19 15:40:11,574] Trial 65 finished with value: 0.1385112033878421 and parameters: {'learning_rate': 0.04117109604550071, 'n_estimators': 846, 'lambda_l1': 2.7697628141607643e-05, 'lambda_l2': 0.00281665208321593, 'max_depth': 21, 'min_child_samples': 16, 'feature_fraction': 0.7747002308373281, 'bagging_fraction': 0.4811681642560732}. Best is trial 51 with value: 0.13507525830029007.\n",
      "[I 2025-01-19 15:40:19,976] Trial 66 finished with value: 0.14670049389735335 and parameters: {'learning_rate': 0.042175760295697216, 'n_estimators': 896, 'lambda_l1': 7.092970232037918e-07, 'lambda_l2': 0.0006303163597213265, 'max_depth': 24, 'min_child_samples': 13, 'feature_fraction': 0.8207068929103271, 'bagging_fraction': 0.483190723111281}. Best is trial 51 with value: 0.13507525830029007.\n",
      "[I 2025-01-19 15:40:28,320] Trial 67 finished with value: 0.14262144969282298 and parameters: {'learning_rate': 0.03725392169500686, 'n_estimators': 851, 'lambda_l1': 2.4513258185480354e-05, 'lambda_l2': 0.004526611539689623, 'max_depth': 21, 'min_child_samples': 16, 'feature_fraction': 0.7744249103805613, 'bagging_fraction': 0.7555728431131854}. Best is trial 51 with value: 0.13507525830029007.\n",
      "[I 2025-01-19 15:40:31,483] Trial 68 finished with value: 0.17164822573897442 and parameters: {'learning_rate': 0.033062472558454445, 'n_estimators': 328, 'lambda_l1': 0.0006390473875088357, 'lambda_l2': 0.014368212993606959, 'max_depth': 22, 'min_child_samples': 11, 'feature_fraction': 0.853964109238689, 'bagging_fraction': 0.4466541047216983}. Best is trial 51 with value: 0.13507525830029007.\n",
      "[I 2025-01-19 15:40:35,749] Trial 69 finished with value: 0.1418620497448063 and parameters: {'learning_rate': 0.04902123660849074, 'n_estimators': 460, 'lambda_l1': 1.975285600272569e-06, 'lambda_l2': 0.05188111273191147, 'max_depth': 20, 'min_child_samples': 22, 'feature_fraction': 0.8304446760507609, 'bagging_fraction': 0.5180494729816694}. Best is trial 51 with value: 0.13507525830029007.\n",
      "[I 2025-01-19 15:40:43,228] Trial 70 finished with value: 0.14275516537918978 and parameters: {'learning_rate': 0.05408819360711977, 'n_estimators': 800, 'lambda_l1': 9.313119868207352e-08, 'lambda_l2': 4.1424209679571024e-05, 'max_depth': 23, 'min_child_samples': 19, 'feature_fraction': 0.7200735873090918, 'bagging_fraction': 0.46196374065910767}. Best is trial 51 with value: 0.13507525830029007.\n",
      "[I 2025-01-19 15:40:50,772] Trial 71 finished with value: 0.14076236174845433 and parameters: {'learning_rate': 0.037934396751862116, 'n_estimators': 763, 'lambda_l1': 6.88609432161614e-05, 'lambda_l2': 0.0019643641908547262, 'max_depth': 19, 'min_child_samples': 24, 'feature_fraction': 0.8010740430002308, 'bagging_fraction': 0.5024830930279945}. Best is trial 51 with value: 0.13507525830029007.\n",
      "[I 2025-01-19 15:40:58,104] Trial 72 finished with value: 0.14455594988854858 and parameters: {'learning_rate': 0.03894338427614435, 'n_estimators': 755, 'lambda_l1': 6.732655942274254e-05, 'lambda_l2': 0.002012603259309602, 'max_depth': 19, 'min_child_samples': 17, 'feature_fraction': 0.8030159562491718, 'bagging_fraction': 0.9863407646388103}. Best is trial 51 with value: 0.13507525830029007.\n",
      "[I 2025-01-19 15:41:06,704] Trial 73 finished with value: 0.14685172713931685 and parameters: {'learning_rate': 0.04482244033535094, 'n_estimators': 927, 'lambda_l1': 3.0847212630758945e-05, 'lambda_l2': 0.00102067308169549, 'max_depth': 20, 'min_child_samples': 29, 'feature_fraction': 0.898345706529931, 'bagging_fraction': 0.49886175362239127}. Best is trial 51 with value: 0.13507525830029007.\n",
      "[I 2025-01-19 15:41:13,837] Trial 74 finished with value: 0.14332980692725467 and parameters: {'learning_rate': 0.034975146083755355, 'n_estimators': 704, 'lambda_l1': 0.0001993867262314258, 'lambda_l2': 4.457661564424047e-06, 'max_depth': 25, 'min_child_samples': 22, 'feature_fraction': 0.7571566428304122, 'bagging_fraction': 0.5520756354947112}. Best is trial 51 with value: 0.13507525830029007.\n",
      "[I 2025-01-19 15:41:21,998] Trial 75 finished with value: 0.14174787649615722 and parameters: {'learning_rate': 0.04190876118933516, 'n_estimators': 857, 'lambda_l1': 0.0004249762064597151, 'lambda_l2': 0.00015661751747798425, 'max_depth': 21, 'min_child_samples': 26, 'feature_fraction': 0.8128396323082742, 'bagging_fraction': 0.5939415298426669}. Best is trial 51 with value: 0.13507525830029007.\n",
      "[I 2025-01-19 15:41:29,894] Trial 76 finished with value: 0.14897585054426096 and parameters: {'learning_rate': 0.028680236023424947, 'n_estimators': 773, 'lambda_l1': 1.2550231974566272e-05, 'lambda_l2': 0.02420912044539107, 'max_depth': 22, 'min_child_samples': 14, 'feature_fraction': 0.8691643550453866, 'bagging_fraction': 0.693405134227403}. Best is trial 51 with value: 0.13507525830029007.\n",
      "[I 2025-01-19 15:41:39,262] Trial 77 finished with value: 0.14866217164876805 and parameters: {'learning_rate': 0.03805016825767937, 'n_estimators': 963, 'lambda_l1': 5.606499832639921e-06, 'lambda_l2': 0.009503126007142725, 'max_depth': 18, 'min_child_samples': 21, 'feature_fraction': 0.8516738995423792, 'bagging_fraction': 0.4808721650910183}. Best is trial 51 with value: 0.13507525830029007.\n",
      "[I 2025-01-19 15:41:47,014] Trial 78 finished with value: 0.14803196919236986 and parameters: {'learning_rate': 0.048567640712221444, 'n_estimators': 822, 'lambda_l1': 0.000160691553409656, 'lambda_l2': 3.172162853995097e-08, 'max_depth': 23, 'min_child_samples': 24, 'feature_fraction': 0.7808608658283026, 'bagging_fraction': 0.5093220215455767}. Best is trial 51 with value: 0.13507525830029007.\n",
      "[I 2025-01-19 15:41:56,092] Trial 79 finished with value: 0.14556580743660308 and parameters: {'learning_rate': 0.034093331276210934, 'n_estimators': 893, 'lambda_l1': 2.4542494984836667e-05, 'lambda_l2': 0.00044386789884280533, 'max_depth': 16, 'min_child_samples': 16, 'feature_fraction': 0.7082064935760617, 'bagging_fraction': 0.42476480331069183}. Best is trial 51 with value: 0.13507525830029007.\n",
      "[I 2025-01-19 15:41:57,521] Trial 80 finished with value: 0.16837106952189615 and parameters: {'learning_rate': 0.06037540665758034, 'n_estimators': 116, 'lambda_l1': 7.49598526602208e-05, 'lambda_l2': 0.002491500990167984, 'max_depth': 24, 'min_child_samples': 19, 'feature_fraction': 0.9215694841940694, 'bagging_fraction': 0.5255008442303352}. Best is trial 51 with value: 0.13507525830029007.\n",
      "[I 2025-01-19 15:42:05,697] Trial 81 finished with value: 0.1403488432669804 and parameters: {'learning_rate': 0.03990704941689752, 'n_estimators': 833, 'lambda_l1': 3.8006699422144274e-05, 'lambda_l2': 0.0031102322860240518, 'max_depth': 14, 'min_child_samples': 24, 'feature_fraction': 0.7939883235269578, 'bagging_fraction': 0.4936258891252352}. Best is trial 51 with value: 0.13507525830029007.\n",
      "[I 2025-01-19 15:42:13,067] Trial 82 finished with value: 0.14740756422673104 and parameters: {'learning_rate': 0.03980890368336432, 'n_estimators': 730, 'lambda_l1': 3.0970226789674514e-06, 'lambda_l2': 0.004142150261832879, 'max_depth': 14, 'min_child_samples': 49, 'feature_fraction': 0.7522244691298371, 'bagging_fraction': 0.544725411229189}. Best is trial 51 with value: 0.13507525830029007.\n",
      "[I 2025-01-19 15:42:22,270] Trial 83 finished with value: 0.14331200387422588 and parameters: {'learning_rate': 0.04445503993733581, 'n_estimators': 796, 'lambda_l1': 3.665727813298026e-05, 'lambda_l2': 0.006356011914992223, 'max_depth': 19, 'min_child_samples': 25, 'feature_fraction': 0.7926511085436522, 'bagging_fraction': 0.4906303708077763}. Best is trial 51 with value: 0.13507525830029007.\n",
      "[I 2025-01-19 15:42:30,874] Trial 84 finished with value: 0.1411955595493409 and parameters: {'learning_rate': 0.03143578862849876, 'n_estimators': 862, 'lambda_l1': 8.063265175975034e-06, 'lambda_l2': 0.0008512939387483529, 'max_depth': 15, 'min_child_samples': 23, 'feature_fraction': 0.8296521313135832, 'bagging_fraction': 0.7167394595623993}. Best is trial 51 with value: 0.13507525830029007.\n",
      "[I 2025-01-19 15:42:38,522] Trial 85 finished with value: 0.14494535165387198 and parameters: {'learning_rate': 0.05177204298731551, 'n_estimators': 832, 'lambda_l1': 0.0003843527414183518, 'lambda_l2': 0.04745493146346168, 'max_depth': 14, 'min_child_samples': 20, 'feature_fraction': 0.8875915213679747, 'bagging_fraction': 0.4624097455188193}. Best is trial 51 with value: 0.13507525830029007.\n",
      "[I 2025-01-19 15:42:44,955] Trial 86 finished with value: 0.1546241877683143 and parameters: {'learning_rate': 0.03643458364220336, 'n_estimators': 660, 'lambda_l1': 1.7713360983897896e-05, 'lambda_l2': 0.1758322039005862, 'max_depth': 17, 'min_child_samples': 28, 'feature_fraction': 0.8104026066073882, 'bagging_fraction': 0.5079806577361161}. Best is trial 51 with value: 0.13507525830029007.\n",
      "[I 2025-01-19 15:42:54,652] Trial 87 finished with value: 0.14528074584783318 and parameters: {'learning_rate': 0.02717161279357624, 'n_estimators': 927, 'lambda_l1': 0.0001355208653331639, 'lambda_l2': 0.010116948058256301, 'max_depth': 12, 'min_child_samples': 26, 'feature_fraction': 0.7742801873634474, 'bagging_fraction': 0.5615431201370475}. Best is trial 51 with value: 0.13507525830029007.\n",
      "[I 2025-01-19 15:42:59,819] Trial 88 finished with value: 0.14682056529224763 and parameters: {'learning_rate': 0.04120055877477916, 'n_estimators': 544, 'lambda_l1': 0.002074931144914056, 'lambda_l2': 6.251582883442899e-07, 'max_depth': 25, 'min_child_samples': 18, 'feature_fraction': 0.8170504084157357, 'bagging_fraction': 0.4348181215048582}. Best is trial 51 with value: 0.13507525830029007.\n",
      "[I 2025-01-19 15:43:08,289] Trial 89 finished with value: 0.1572160101014362 and parameters: {'learning_rate': 0.04576171451267237, 'n_estimators': 906, 'lambda_l1': 7.22147665318327e-05, 'lambda_l2': 0.0034020446530119244, 'max_depth': 24, 'min_child_samples': 46, 'feature_fraction': 0.8398003380786944, 'bagging_fraction': 0.5321455191356695}. Best is trial 51 with value: 0.13507525830029007.\n",
      "[I 2025-01-19 15:43:15,779] Trial 90 finished with value: 0.13464102552413637 and parameters: {'learning_rate': 0.04320068814188874, 'n_estimators': 813, 'lambda_l1': 0.0010128971242639585, 'lambda_l2': 0.0012997258073851185, 'max_depth': 13, 'min_child_samples': 9, 'feature_fraction': 0.8655911706745566, 'bagging_fraction': 0.4722808892586078}. Best is trial 90 with value: 0.13464102552413637.\n",
      "[I 2025-01-19 15:43:23,327] Trial 91 finished with value: 0.1459485552192009 and parameters: {'learning_rate': 0.04275361640599488, 'n_estimators': 813, 'lambda_l1': 0.0006360967370851737, 'lambda_l2': 0.001505726054289013, 'max_depth': 13, 'min_child_samples': 9, 'feature_fraction': 0.8608155516617491, 'bagging_fraction': 0.47243504753460763}. Best is trial 90 with value: 0.13464102552413637.\n",
      "[I 2025-01-19 15:43:31,440] Trial 92 finished with value: 0.14549150676967978 and parameters: {'learning_rate': 0.039220493539101946, 'n_estimators': 769, 'lambda_l1': 0.0003526821595096563, 'lambda_l2': 0.0002591711037916907, 'max_depth': 14, 'min_child_samples': 11, 'feature_fraction': 0.8767154620643196, 'bagging_fraction': 0.45553937017678564}. Best is trial 90 with value: 0.13464102552413637.\n",
      "[I 2025-01-19 15:43:40,246] Trial 93 finished with value: 0.14556645562885048 and parameters: {'learning_rate': 0.04973111520471644, 'n_estimators': 866, 'lambda_l1': 1.1332064621369103e-06, 'lambda_l2': 0.016753293629262922, 'max_depth': 15, 'min_child_samples': 15, 'feature_fraction': 0.8477420464083496, 'bagging_fraction': 0.4943208111262186}. Best is trial 90 with value: 0.13464102552413637.\n",
      "[I 2025-01-19 15:43:47,375] Trial 94 finished with value: 0.1458733525525389 and parameters: {'learning_rate': 0.03401712354643637, 'n_estimators': 739, 'lambda_l1': 0.0009067562496338614, 'lambda_l2': 0.0020353304498726583, 'max_depth': 13, 'min_child_samples': 14, 'feature_fraction': 0.9094758815897233, 'bagging_fraction': 0.5116558734674679}. Best is trial 90 with value: 0.13464102552413637.\n",
      "[I 2025-01-19 15:43:56,573] Trial 95 finished with value: 0.1283934074058655 and parameters: {'learning_rate': 0.04718722160252457, 'n_estimators': 843, 'lambda_l1': 0.00010775286482054532, 'lambda_l2': 0.007551578014641231, 'max_depth': 12, 'min_child_samples': 6, 'feature_fraction': 0.7957302298889435, 'bagging_fraction': 0.5418003123219285}. Best is trial 95 with value: 0.1283934074058655.\n",
      "[I 2025-01-19 15:44:05,267] Trial 96 finished with value: 0.1422705396417663 and parameters: {'learning_rate': 0.03610127330661332, 'n_estimators': 847, 'lambda_l1': 0.00011408337375508764, 'lambda_l2': 0.003138535052451233, 'max_depth': 11, 'min_child_samples': 5, 'feature_fraction': 0.7994282418819028, 'bagging_fraction': 0.5423991205427137}. Best is trial 95 with value: 0.1283934074058655.\n",
      "[I 2025-01-19 15:44:14,783] Trial 97 finished with value: 0.17176833516885592 and parameters: {'learning_rate': 0.056244673007785906, 'n_estimators': 889, 'lambda_l1': 0.00811977342439526, 'lambda_l2': 0.000937681831615059, 'max_depth': 12, 'min_child_samples': 8, 'feature_fraction': 0.51789709673825, 'bagging_fraction': 0.6004009843287419}. Best is trial 95 with value: 0.1283934074058655.\n",
      "[I 2025-01-19 15:44:23,476] Trial 98 finished with value: 0.13874214650699138 and parameters: {'learning_rate': 0.030169368706019124, 'n_estimators': 806, 'lambda_l1': 0.00022798585332187436, 'lambda_l2': 0.0004424054180779503, 'max_depth': 11, 'min_child_samples': 8, 'feature_fraction': 0.783747690771754, 'bagging_fraction': 0.5650240724922744}. Best is trial 95 with value: 0.1283934074058655.\n",
      "[I 2025-01-19 15:44:31,305] Trial 99 finished with value: 0.1466078193575894 and parameters: {'learning_rate': 0.04736153816930428, 'n_estimators': 801, 'lambda_l1': 0.00023805911768345659, 'lambda_l2': 0.0005004305026736531, 'max_depth': 8, 'min_child_samples': 7, 'feature_fraction': 0.7625949499958515, 'bagging_fraction': 0.5809045361227361}. Best is trial 95 with value: 0.1283934074058655.\n"
     ]
    }
   ],
   "source": [
    "# def objective(trial: optuna.Trial):\n",
    "#     '''\n",
    "#     Обычная сигнатура функции оптимизации для optuna.\n",
    "#     '''\n",
    "#     param = {\n",
    "#             \"metric\": 'MAPE',\n",
    "#             \"verbosity\": -1,\n",
    "#             \"random_state\": 42,\n",
    "#             \"learning_rate\": trial.suggest_float(\"learning_rate\", 0.01, 0.1, log=True),\n",
    "#             \"n_estimators\": trial.suggest_int(\"n_estimators\", 100, 1000),\n",
    "#             'lambda_l1': trial.suggest_float('lambda_l1', 1e-8, 10.0, log=True),\n",
    "#             'lambda_l2': trial.suggest_float('lambda_l2', 1e-8, 10.0, log=True),\n",
    "#             \"max_depth\": trial.suggest_int(\"max_depth\", 5, 25),\n",
    "# #            \"colsample_bytree\": trial.suggest_float(\"colsample_bytree\", 0.3, 0.9),\n",
    "# #            \"subsample\": trial.suggest_float(\"subsample\", 0.8, 1.0),\n",
    "#             \"min_child_samples\": trial.suggest_int(\"min_child_samples\", 5, 50),\n",
    "#             'feature_fraction': trial.suggest_float('feature_fraction', 0.4, 1.0),\n",
    "#             'bagging_fraction': trial.suggest_float('bagging_fraction', 0.4, 1.0)}\n",
    "    \n",
    "#     lgbm_model = LGBMRegressor(**param)\n",
    "#     lgbm_model.fit(X_train, y_train, eval_set=(X_test, y_test))\n",
    "#     y_pred = lgbm_model.predict(X_test)\n",
    "#     return mean_absolute_percentage_error(y_test, y_pred)\n",
    "\n",
    "# study = optuna.create_study(direction='minimize')\n",
    "# study.optimize(objective, n_trials=100)"
   ]
  },
  {
   "cell_type": "code",
   "execution_count": 16,
   "id": "df8d2723-bf6f-46bc-8a0a-e229634dd60f",
   "metadata": {},
   "outputs": [
    {
     "data": {
      "text/plain": [
       "{'learning_rate': 0.04718722160252457,\n",
       " 'n_estimators': 843,\n",
       " 'lambda_l1': 0.00010775286482054532,\n",
       " 'lambda_l2': 0.007551578014641231,\n",
       " 'max_depth': 12,\n",
       " 'min_child_samples': 6,\n",
       " 'feature_fraction': 0.7957302298889435,\n",
       " 'bagging_fraction': 0.5418003123219285}"
      ]
     },
     "execution_count": 16,
     "metadata": {},
     "output_type": "execute_result"
    }
   ],
   "source": [
    "# study.best_params"
   ]
  },
  {
   "cell_type": "code",
   "execution_count": 17,
   "id": "e36df45f-a688-4dfc-8047-f7e7ce4ddf60",
   "metadata": {},
   "outputs": [],
   "source": [
    "# study_params = {\n",
    "#     \"metric\": 'MAPE',\n",
    "#     \"verbosity\": -1,\n",
    "#     \"random_state\": 42,\n",
    "#     'learning_rate': 0.04718722160252457,\n",
    "#     'n_estimators': 843,\n",
    "#     'lambda_l1': 0.00010775286482054532,\n",
    "#     'lambda_l2': 0.007551578014641231,\n",
    "#     'max_depth': 12,\n",
    "#     'min_child_samples': 6,\n",
    "#     'feature_fraction': 0.7957302298889435,\n",
    "#     'bagging_fraction': 0.5418003123219285\n",
    "# }"
   ]
  },
  {
   "cell_type": "code",
   "execution_count": null,
   "id": "169d45fc-cb8f-4ab5-b1b5-26eb97313835",
   "metadata": {},
   "outputs": [],
   "source": []
  },
  {
   "cell_type": "code",
   "execution_count": 13,
   "id": "38e5d50f-8b34-4831-9135-f2d59c8b5cc6",
   "metadata": {},
   "outputs": [],
   "source": [
    "params = {\n",
    "    \"metric\": 'MAPE',\n",
    "    \"verbosity\": -1,\n",
    "    \"random_state\": 42,\n",
    "}"
   ]
  },
  {
   "cell_type": "code",
   "execution_count": 15,
   "id": "fb689746-60b7-4086-9e68-afb93351bf20",
   "metadata": {},
   "outputs": [
    {
     "data": {
      "text/plain": [
       "0.16653113219269797"
      ]
     },
     "execution_count": 15,
     "metadata": {},
     "output_type": "execute_result"
    }
   ],
   "source": [
    "lgbmr_model = LGBMRegressor(**params)\n",
    "\n",
    "lgbmr_model.fit(X_train, y_train, eval_set=(X_test, y_test))\n",
    "y_pred = lgbmr_model.predict(X_test)\n",
    "mae = mean_absolute_percentage_error(y_test, y_pred)\n",
    "pred = lgbmr_model.predict(df_pred)\n",
    "mae"
   ]
  },
  {
   "cell_type": "code",
   "execution_count": 19,
   "id": "c10d057d-26eb-45d5-95ee-484f3d89c219",
   "metadata": {},
   "outputs": [],
   "source": [
    "df_pred_duble = pd.read_csv('data/test.csv')\n",
    "df_pred_Id = df_pred_duble['id']\n",
    "\n",
    "output = pd.DataFrame({'id': df_pred_Id, 'num_sold': pred})\n",
    "output.to_csv('data/lgbmr_model.csv', index=False)"
   ]
  },
  {
   "cell_type": "code",
   "execution_count": null,
   "id": "bd6a4656-2d56-4e7b-9e01-cbf4707bfb61",
   "metadata": {},
   "outputs": [],
   "source": []
  }
 ],
 "metadata": {
  "kernelspec": {
   "display_name": "Python 3 (ipykernel)",
   "language": "python",
   "name": "python3"
  },
  "language_info": {
   "codemirror_mode": {
    "name": "ipython",
    "version": 3
   },
   "file_extension": ".py",
   "mimetype": "text/x-python",
   "name": "python",
   "nbconvert_exporter": "python",
   "pygments_lexer": "ipython3",
   "version": "3.10.11"
  }
 },
 "nbformat": 4,
 "nbformat_minor": 5
}
