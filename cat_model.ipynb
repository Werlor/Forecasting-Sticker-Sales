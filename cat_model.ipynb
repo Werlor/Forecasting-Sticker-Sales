{
 "cells": [
  {
   "cell_type": "code",
   "execution_count": 1,
   "id": "4a430579-280a-43f5-a635-258706587cbd",
   "metadata": {},
   "outputs": [],
   "source": [
    "import numpy as np\n",
    "import pandas as pd\n",
    "import holidays\n",
    "import optuna\n",
    "\n",
    "from catboost import CatBoostRegressor\n",
    "from sklearn.model_selection import train_test_split, cross_val_score, KFold \n",
    "from sklearn.metrics import mean_absolute_percentage_error, make_scorer\n",
    "from sklearn.preprocessing import StandardScaler\n",
    "from sklearn.compose import ColumnTransformer"
   ]
  },
  {
   "cell_type": "code",
   "execution_count": 2,
   "id": "1e472a2a-4b31-4140-8976-6a3fe30a86f0",
   "metadata": {},
   "outputs": [],
   "source": [
    "df = pd.read_csv('data/train.csv')\n",
    "df_pred = pd.read_csv('data/test.csv')\n",
    "sample = pd.read_csv('data/sample_submission.csv')"
   ]
  },
  {
   "cell_type": "markdown",
   "id": "b3b35c9e-cbaa-4b26-a5fb-a324f9ab8e64",
   "metadata": {},
   "source": [
    "## Знакомство с данными\n",
    "- *num_sold* - 8871 nan значений (целевой признак)\n",
    "- *country* - 'Canada', 'Finland', 'Italy', 'Kenya', 'Norway', 'Singapore'\n",
    "- *store* - 'Discount Stickers', 'Stickers for Less', 'Premium Sticker Mart'\n",
    "- *product* - 'Holographic Goose', 'Kaggle', 'Kaggle Tiers', 'Kerneler', 'Kerneler Dark Mode'\n",
    "- *date* - будем думать"
   ]
  },
  {
   "cell_type": "code",
   "execution_count": 10,
   "id": "47ce64b1-7802-45d0-abe2-7504bbda8af3",
   "metadata": {},
   "outputs": [
    {
     "data": {
      "text/html": [
       "<div>\n",
       "<style scoped>\n",
       "    .dataframe tbody tr th:only-of-type {\n",
       "        vertical-align: middle;\n",
       "    }\n",
       "\n",
       "    .dataframe tbody tr th {\n",
       "        vertical-align: top;\n",
       "    }\n",
       "\n",
       "    .dataframe thead th {\n",
       "        text-align: right;\n",
       "    }\n",
       "</style>\n",
       "<table border=\"1\" class=\"dataframe\">\n",
       "  <thead>\n",
       "    <tr style=\"text-align: right;\">\n",
       "      <th></th>\n",
       "      <th>country</th>\n",
       "      <th>store</th>\n",
       "      <th>product</th>\n",
       "      <th>num_sold</th>\n",
       "      <th>day</th>\n",
       "      <th>month</th>\n",
       "      <th>year</th>\n",
       "      <th>weekday</th>\n",
       "    </tr>\n",
       "  </thead>\n",
       "  <tbody>\n",
       "    <tr>\n",
       "      <th>1</th>\n",
       "      <td>Canada</td>\n",
       "      <td>Discount Stickers</td>\n",
       "      <td>Kaggle</td>\n",
       "      <td>973.0</td>\n",
       "      <td>1</td>\n",
       "      <td>1</td>\n",
       "      <td>2010</td>\n",
       "      <td>4</td>\n",
       "    </tr>\n",
       "    <tr>\n",
       "      <th>2</th>\n",
       "      <td>Canada</td>\n",
       "      <td>Discount Stickers</td>\n",
       "      <td>Kaggle Tiers</td>\n",
       "      <td>906.0</td>\n",
       "      <td>1</td>\n",
       "      <td>1</td>\n",
       "      <td>2010</td>\n",
       "      <td>4</td>\n",
       "    </tr>\n",
       "    <tr>\n",
       "      <th>3</th>\n",
       "      <td>Canada</td>\n",
       "      <td>Discount Stickers</td>\n",
       "      <td>Kerneler</td>\n",
       "      <td>423.0</td>\n",
       "      <td>1</td>\n",
       "      <td>1</td>\n",
       "      <td>2010</td>\n",
       "      <td>4</td>\n",
       "    </tr>\n",
       "    <tr>\n",
       "      <th>4</th>\n",
       "      <td>Canada</td>\n",
       "      <td>Discount Stickers</td>\n",
       "      <td>Kerneler Dark Mode</td>\n",
       "      <td>491.0</td>\n",
       "      <td>1</td>\n",
       "      <td>1</td>\n",
       "      <td>2010</td>\n",
       "      <td>4</td>\n",
       "    </tr>\n",
       "    <tr>\n",
       "      <th>5</th>\n",
       "      <td>Canada</td>\n",
       "      <td>Stickers for Less</td>\n",
       "      <td>Holographic Goose</td>\n",
       "      <td>300.0</td>\n",
       "      <td>1</td>\n",
       "      <td>1</td>\n",
       "      <td>2010</td>\n",
       "      <td>4</td>\n",
       "    </tr>\n",
       "    <tr>\n",
       "      <th>...</th>\n",
       "      <td>...</td>\n",
       "      <td>...</td>\n",
       "      <td>...</td>\n",
       "      <td>...</td>\n",
       "      <td>...</td>\n",
       "      <td>...</td>\n",
       "      <td>...</td>\n",
       "      <td>...</td>\n",
       "    </tr>\n",
       "    <tr>\n",
       "      <th>230125</th>\n",
       "      <td>Singapore</td>\n",
       "      <td>Premium Sticker Mart</td>\n",
       "      <td>Holographic Goose</td>\n",
       "      <td>466.0</td>\n",
       "      <td>31</td>\n",
       "      <td>12</td>\n",
       "      <td>2016</td>\n",
       "      <td>5</td>\n",
       "    </tr>\n",
       "    <tr>\n",
       "      <th>230126</th>\n",
       "      <td>Singapore</td>\n",
       "      <td>Premium Sticker Mart</td>\n",
       "      <td>Kaggle</td>\n",
       "      <td>2907.0</td>\n",
       "      <td>31</td>\n",
       "      <td>12</td>\n",
       "      <td>2016</td>\n",
       "      <td>5</td>\n",
       "    </tr>\n",
       "    <tr>\n",
       "      <th>230127</th>\n",
       "      <td>Singapore</td>\n",
       "      <td>Premium Sticker Mart</td>\n",
       "      <td>Kaggle Tiers</td>\n",
       "      <td>2299.0</td>\n",
       "      <td>31</td>\n",
       "      <td>12</td>\n",
       "      <td>2016</td>\n",
       "      <td>5</td>\n",
       "    </tr>\n",
       "    <tr>\n",
       "      <th>230128</th>\n",
       "      <td>Singapore</td>\n",
       "      <td>Premium Sticker Mart</td>\n",
       "      <td>Kerneler</td>\n",
       "      <td>1242.0</td>\n",
       "      <td>31</td>\n",
       "      <td>12</td>\n",
       "      <td>2016</td>\n",
       "      <td>5</td>\n",
       "    </tr>\n",
       "    <tr>\n",
       "      <th>230129</th>\n",
       "      <td>Singapore</td>\n",
       "      <td>Premium Sticker Mart</td>\n",
       "      <td>Kerneler Dark Mode</td>\n",
       "      <td>1622.0</td>\n",
       "      <td>31</td>\n",
       "      <td>12</td>\n",
       "      <td>2016</td>\n",
       "      <td>5</td>\n",
       "    </tr>\n",
       "  </tbody>\n",
       "</table>\n",
       "<p>221259 rows × 8 columns</p>\n",
       "</div>"
      ],
      "text/plain": [
       "          country                 store             product  num_sold  day  \\\n",
       "1          Canada     Discount Stickers              Kaggle     973.0    1   \n",
       "2          Canada     Discount Stickers        Kaggle Tiers     906.0    1   \n",
       "3          Canada     Discount Stickers            Kerneler     423.0    1   \n",
       "4          Canada     Discount Stickers  Kerneler Dark Mode     491.0    1   \n",
       "5          Canada     Stickers for Less   Holographic Goose     300.0    1   \n",
       "...           ...                   ...                 ...       ...  ...   \n",
       "230125  Singapore  Premium Sticker Mart   Holographic Goose     466.0   31   \n",
       "230126  Singapore  Premium Sticker Mart              Kaggle    2907.0   31   \n",
       "230127  Singapore  Premium Sticker Mart        Kaggle Tiers    2299.0   31   \n",
       "230128  Singapore  Premium Sticker Mart            Kerneler    1242.0   31   \n",
       "230129  Singapore  Premium Sticker Mart  Kerneler Dark Mode    1622.0   31   \n",
       "\n",
       "        month  year  weekday  \n",
       "1           1  2010        4  \n",
       "2           1  2010        4  \n",
       "3           1  2010        4  \n",
       "4           1  2010        4  \n",
       "5           1  2010        4  \n",
       "...       ...   ...      ...  \n",
       "230125     12  2016        5  \n",
       "230126     12  2016        5  \n",
       "230127     12  2016        5  \n",
       "230128     12  2016        5  \n",
       "230129     12  2016        5  \n",
       "\n",
       "[221259 rows x 8 columns]"
      ]
     },
     "execution_count": 10,
     "metadata": {},
     "output_type": "execute_result"
    }
   ],
   "source": [
    "df"
   ]
  },
  {
   "cell_type": "code",
   "execution_count": 3,
   "id": "07393674-b384-4134-a6c3-f4fb5c2e525e",
   "metadata": {},
   "outputs": [],
   "source": [
    "# Привожу дату к типу pd.datetime\n",
    "df['date'] = pd.to_datetime(df['date'], format='%Y-%m-%d')\n",
    "df_pred['date'] = pd.to_datetime(df_pred['date'], format='%Y-%m-%d')"
   ]
  },
  {
   "cell_type": "code",
   "execution_count": 4,
   "id": "4cfede58-d3fa-4d6d-9920-64f8fd398d01",
   "metadata": {},
   "outputs": [],
   "source": [
    "# Новые признаки из даты\n",
    "df['day'] = df.date.dt.day\n",
    "df['month'] = df.date.dt.month\n",
    "df['year'] = df.date.dt.year\n",
    "# df['quarter'] = df.date.dt.quarter\n",
    "# df['dayofyear'] = df.date.dt.dayofyear\n",
    "# df['weekday'] = df.date.dt.weekday\n",
    "\n",
    "df_pred['day'] = df_pred.date.dt.day\n",
    "df_pred['month'] = df_pred.date.dt.month\n",
    "df_pred['year'] = df_pred.date.dt.year\n",
    "# df_pred['quarter'] = df_pred.date.dt.quarter\n",
    "# df_pred['dayofyear'] = df_pred.date.dt.dayofyear\n",
    "# df_pred['weekday'] = df_pred.date.dt.weekday"
   ]
  },
  {
   "cell_type": "code",
   "execution_count": 5,
   "id": "d0930050-c99c-4340-9344-2265fc82bac9",
   "metadata": {},
   "outputs": [],
   "source": [
    "# Удаляю id\n",
    "df.drop(columns='id', inplace=True)\n",
    "df_pred.drop(columns='id', inplace=True)\n",
    "\n",
    "# Удаляю Nan значения\n",
    "df.dropna(subset=['num_sold'], inplace=True)"
   ]
  },
  {
   "cell_type": "code",
   "execution_count": 6,
   "id": "380b3163-41d9-43bd-9c10-92d03f35ecea",
   "metadata": {},
   "outputs": [],
   "source": [
    "# holiday_dict = {\n",
    "#     'Canada': holidays.CA(),\n",
    "#     'Finland': holidays.FI(),\n",
    "#     'Italy': holidays.IT(),\n",
    "#     'Kenya': holidays.KE(),\n",
    "#     'Norway': holidays.NO(),\n",
    "#     'Singapore': holidays.SG()\n",
    "# }\n",
    "\n",
    "\n",
    "# def is_holiday(row):\n",
    "#     country = row['country']\n",
    "#     date = row['date']\n",
    "    \n",
    "#     if date in holiday_dict[country]:\n",
    "#         return True\n",
    "#     else:\n",
    "#         return False\n",
    "\n",
    "\n",
    "# def is_weekend(row):\n",
    "#     date = row['date']\n",
    "\n",
    "#     if date.weekday() >= 5:\n",
    "#         return True\n",
    "#     else:\n",
    "#         return False\n",
    "\n",
    "\n",
    "# df['weekend'] = df.apply(is_weekend, axis=1)\n",
    "# df['holiday'] = df.apply(is_holiday, axis=1)\n",
    "\n",
    "# df_pred['weekend'] = df_pred.apply(is_weekend, axis=1)\n",
    "# df_pred['holiday'] = df_pred.apply(is_holiday, axis=1)"
   ]
  },
  {
   "cell_type": "code",
   "execution_count": 6,
   "id": "3f213c9b-27c9-4ee1-afc8-e975634ba7ff",
   "metadata": {},
   "outputs": [],
   "source": [
    "# удаляю date\n",
    "df.drop(columns='date', inplace=True)\n",
    "df_pred.drop(columns='date', inplace=True)"
   ]
  },
  {
   "cell_type": "code",
   "execution_count": 7,
   "id": "f4162dda-aa0d-49f1-9d72-b41db35975ed",
   "metadata": {},
   "outputs": [],
   "source": [
    "# метка столбцов с категориальным признаком\n",
    "lst_features = ['country', 'store', 'product', 'day', 'month', 'year']"
   ]
  },
  {
   "cell_type": "code",
   "execution_count": 8,
   "id": "aa5f099b-e5f1-4480-8de4-a761a8a309af",
   "metadata": {},
   "outputs": [],
   "source": [
    "X = df.drop(columns='num_sold')\n",
    "y = df['num_sold']\n",
    "\n",
    "X_train, X_test, y_train, y_test = train_test_split(X, y, test_size=0.2, random_state=42)"
   ]
  },
  {
   "cell_type": "code",
   "execution_count": 11,
   "id": "55860036-7e43-4fdb-88d0-40de63991dfd",
   "metadata": {},
   "outputs": [
    {
     "name": "stdout",
     "output_type": "stream",
     "text": [
      "Средняя MAPE: 0.1770\n",
      "Стандартное отклонение MAPE: 0.0026\n",
      "Тестовая MAPE: 0.1777\n"
     ]
    }
   ],
   "source": [
    "# cat_model = CatBoostRegressor(\n",
    "#     cat_features=lst_features, verbose=0, random_seed=42,\n",
    "#     loss_function='MAPE', eval_metric='MAPE'\n",
    "# )\n",
    "\n",
    "# # Создаем пользовательский scorer для MAPE\n",
    "# scorer = make_scorer(mean_absolute_percentage_error, greater_is_better=False)\n",
    "\n",
    "# # Настраиваем кросс-валидацию\n",
    "# kf = KFold(n_splits=5, shuffle=True, random_state=42)  # 5-кратная кросс-валидация\n",
    "\n",
    "# # Выполняем кросс-валидацию\n",
    "# cv_scores = cross_val_score(cat_model, X_train, y_train, cv=kf, scoring=scorer)\n",
    "\n",
    "# # Меняем знак, так как MAPE в cross_val_score возвращается со знаком минус\n",
    "# cv_scores = -cv_scores\n",
    "\n",
    "# # Выводим среднее значение и стандартное отклонение метрики MAPE\n",
    "# print(f\"Средняя MAPE: {np.mean(cv_scores):.4f}\")\n",
    "# print(f\"Стандартное отклонение MAPE: {np.std(cv_scores):.4f}\")\n",
    "\n",
    "# # Если необходимо обучить модель на всем тренировочном наборе:\n",
    "# cat_model.fit(X_train, y_train)\n",
    "\n",
    "# # Использование модели для предсказаний\n",
    "# y_pred = cat_model.predict(X_test)\n",
    "# mae_test = mean_absolute_percentage_error(y_test, y_pred)\n",
    "# print(f\"Тестовая MAPE: {mae_test:.4f}\")"
   ]
  },
  {
   "cell_type": "code",
   "execution_count": 14,
   "id": "69e76091-4b11-4319-b11a-dd118fc480ad",
   "metadata": {
    "collapsed": true,
    "jupyter": {
     "outputs_hidden": true
    }
   },
   "outputs": [
    {
     "name": "stderr",
     "output_type": "stream",
     "text": [
      "[I 2025-01-17 11:11:45,323] A new study created in memory with name: no-name-e047567c-ad5b-412e-b326-5faaad395e48\n",
      "[I 2025-01-17 11:17:17,765] Trial 0 finished with value: 0.1514393979566147 and parameters: {'iterations': 1825, 'learning_rate': 0.02100395098051924, 'depth': 6, 'l2_leaf_reg': 9.635851001156526}. Best is trial 0 with value: 0.1514393979566147.\n",
      "[I 2025-01-17 11:18:34,985] Trial 1 finished with value: 0.3594568609060054 and parameters: {'iterations': 1050, 'learning_rate': 0.008920198131744017, 'depth': 3, 'l2_leaf_reg': 0.05719873274644359}. Best is trial 0 with value: 0.1514393979566147.\n",
      "[I 2025-01-17 11:35:34,123] Trial 2 finished with value: 0.07556012433515143 and parameters: {'iterations': 1276, 'learning_rate': 0.028991459925023173, 'depth': 12, 'l2_leaf_reg': 0.0015306131465570262}. Best is trial 2 with value: 0.07556012433515143.\n",
      "[I 2025-01-17 11:43:51,464] Trial 3 finished with value: 0.09824542736098804 and parameters: {'iterations': 1656, 'learning_rate': 0.00464123573559323, 'depth': 9, 'l2_leaf_reg': 0.08828542241192891}. Best is trial 2 with value: 0.07556012433515143.\n",
      "[I 2025-01-17 11:45:44,029] Trial 4 finished with value: 0.3730374846841947 and parameters: {'iterations': 1677, 'learning_rate': 0.012296303848950947, 'depth': 3, 'l2_leaf_reg': 3.3820900568388994e-06}. Best is trial 2 with value: 0.07556012433515143.\n",
      "[I 2025-01-17 11:48:47,880] Trial 5 finished with value: 0.21358709134285306 and parameters: {'iterations': 1550, 'learning_rate': 0.003965197733924287, 'depth': 5, 'l2_leaf_reg': 0.25177274872463634}. Best is trial 2 with value: 0.07556012433515143.\n",
      "[I 2025-01-17 12:03:31,798] Trial 6 finished with value: 0.081224519590967 and parameters: {'iterations': 1607, 'learning_rate': 0.01855544219144362, 'depth': 11, 'l2_leaf_reg': 2.135613368534201e-06}. Best is trial 2 with value: 0.07556012433515143.\n",
      "[I 2025-01-17 12:05:37,074] Trial 7 finished with value: 0.37000457121359814 and parameters: {'iterations': 1768, 'learning_rate': 0.021052445517894657, 'depth': 3, 'l2_leaf_reg': 0.04222442083380594}. Best is trial 2 with value: 0.07556012433515143.\n",
      "[I 2025-01-17 12:08:46,054] Trial 8 finished with value: 0.18486162601796047 and parameters: {'iterations': 1548, 'learning_rate': 0.06791080177793199, 'depth': 4, 'l2_leaf_reg': 1.4623065010840651e-05}. Best is trial 2 with value: 0.07556012433515143.\n",
      "[I 2025-01-17 12:13:23,574] Trial 9 finished with value: 0.11642719481489926 and parameters: {'iterations': 1165, 'learning_rate': 0.00646575295519438, 'depth': 8, 'l2_leaf_reg': 0.8240772903298409}. Best is trial 2 with value: 0.07556012433515143.\n",
      "[I 2025-01-17 12:34:51,988] Trial 10 finished with value: 0.47675779294510934 and parameters: {'iterations': 2085, 'learning_rate': 0.0015228765105181354, 'depth': 12, 'l2_leaf_reg': 0.0005656046478181396}. Best is trial 2 with value: 0.07556012433515143.\n",
      "[I 2025-01-17 12:52:09,936] Trial 11 finished with value: 0.0776288654316751 and parameters: {'iterations': 1386, 'learning_rate': 0.06045466525016828, 'depth': 12, 'l2_leaf_reg': 1.037710110042907e-08}. Best is trial 2 with value: 0.07556012433515143.\n",
      "[I 2025-01-17 13:02:17,150] Trial 12 finished with value: 0.08521449463331186 and parameters: {'iterations': 1312, 'learning_rate': 0.09164269925949142, 'depth': 10, 'l2_leaf_reg': 2.1203327658603404e-08}. Best is trial 2 with value: 0.07556012433515143.\n",
      "[I 2025-01-17 13:19:24,743] Trial 13 finished with value: 0.07496791814167247 and parameters: {'iterations': 1344, 'learning_rate': 0.050046525553752046, 'depth': 12, 'l2_leaf_reg': 0.001428611939083863}. Best is trial 13 with value: 0.07496791814167247.\n",
      "[I 2025-01-17 13:30:01,730] Trial 14 finished with value: 0.08783526830293548 and parameters: {'iterations': 1324, 'learning_rate': 0.040456177170602264, 'depth': 10, 'l2_leaf_reg': 0.001469027021127495}. Best is trial 13 with value: 0.07496791814167247.\n",
      "[I 2025-01-17 13:35:33,057] Trial 15 finished with value: 0.11744715873821482 and parameters: {'iterations': 1135, 'learning_rate': 0.03688287823714485, 'depth': 7, 'l2_leaf_reg': 0.005989926145115478}. Best is trial 13 with value: 0.07496791814167247.\n",
      "[I 2025-01-17 13:51:30,960] Trial 16 finished with value: 0.08277540552296965 and parameters: {'iterations': 1410, 'learning_rate': 0.0348369260729178, 'depth': 11, 'l2_leaf_reg': 7.20790424890699e-05}. Best is trial 13 with value: 0.07496791814167247.\n",
      "[I 2025-01-17 14:02:11,939] Trial 17 finished with value: 2.7619185342458796 and parameters: {'iterations': 1184, 'learning_rate': 0.0010409156306652994, 'depth': 12, 'l2_leaf_reg': 0.0034887795157016533}. Best is trial 13 with value: 0.07496791814167247.\n",
      "[I 2025-01-17 14:09:18,342] Trial 18 finished with value: 0.09317051032659547 and parameters: {'iterations': 1270, 'learning_rate': 0.04847475155610797, 'depth': 9, 'l2_leaf_reg': 6.50131642106029e-05}. Best is trial 13 with value: 0.07496791814167247.\n",
      "[I 2025-01-17 14:23:20,507] Trial 19 finished with value: 0.08287882525225732 and parameters: {'iterations': 1461, 'learning_rate': 0.02710157750572214, 'depth': 11, 'l2_leaf_reg': 4.886695716835819e-07}. Best is trial 13 with value: 0.07496791814167247.\n",
      "[I 2025-01-17 14:28:38,386] Trial 20 finished with value: 0.09939893338200134 and parameters: {'iterations': 1059, 'learning_rate': 0.09699814887220609, 'depth': 8, 'l2_leaf_reg': 9.702557037690855e-05}. Best is trial 13 with value: 0.07496791814167247.\n",
      "[I 2025-01-17 14:47:21,444] Trial 21 finished with value: 0.07615968470788154 and parameters: {'iterations': 1422, 'learning_rate': 0.06593337723783382, 'depth': 12, 'l2_leaf_reg': 3.341384228887329e-08}. Best is trial 13 with value: 0.07496791814167247.\n",
      "[I 2025-01-17 14:57:44,378] Trial 22 finished with value: 0.08578284364711368 and parameters: {'iterations': 1244, 'learning_rate': 0.06113648116975747, 'depth': 10, 'l2_leaf_reg': 0.010558533601816661}. Best is trial 13 with value: 0.07496791814167247.\n",
      "[I 2025-01-17 15:17:36,033] Trial 23 finished with value: 0.07854492280810017 and parameters: {'iterations': 1472, 'learning_rate': 0.013839872570146627, 'depth': 12, 'l2_leaf_reg': 2.502918881302074e-07}. Best is trial 13 with value: 0.07496791814167247.\n",
      "[I 2025-01-17 15:31:08,385] Trial 24 finished with value: 0.08132257309484164 and parameters: {'iterations': 1399, 'learning_rate': 0.029709612076863665, 'depth': 11, 'l2_leaf_reg': 0.0004144708199961648}. Best is trial 13 with value: 0.07496791814167247.\n",
      "[I 2025-01-17 15:46:39,361] Trial 25 finished with value: 0.0761830725503469 and parameters: {'iterations': 1232, 'learning_rate': 0.05155120940171733, 'depth': 12, 'l2_leaf_reg': 2.0233181939749522e-05}. Best is trial 13 with value: 0.07496791814167247.\n",
      "[I 2025-01-17 15:56:55,427] Trial 26 finished with value: 0.08362446878034813 and parameters: {'iterations': 1344, 'learning_rate': 0.06970581285412557, 'depth': 10, 'l2_leaf_reg': 0.0010389392039142006}. Best is trial 13 with value: 0.07496791814167247.\n",
      "[I 2025-01-17 16:05:20,714] Trial 27 finished with value: 0.08997323455199069 and parameters: {'iterations': 1494, 'learning_rate': 0.09345865828821408, 'depth': 9, 'l2_leaf_reg': 0.00020169663650715475}. Best is trial 13 with value: 0.07496791814167247.\n",
      "[I 2025-01-17 16:23:06,990] Trial 28 finished with value: 0.08231676135568902 and parameters: {'iterations': 1850, 'learning_rate': 0.028289569489829268, 'depth': 11, 'l2_leaf_reg': 1.4313040535201959e-07}. Best is trial 13 with value: 0.07496791814167247.\n",
      "[I 2025-01-17 16:26:22,363] Trial 29 finished with value: 0.15933357110643048 and parameters: {'iterations': 1114, 'learning_rate': 0.019728740958978974, 'depth': 6, 'l2_leaf_reg': 8.51081707620654}. Best is trial 13 with value: 0.07496791814167247.\n"
     ]
    }
   ],
   "source": [
    "# def objective(trial: optuna.Trial):\n",
    "#     '''\n",
    "#     Обычная сигнатура функции оптимизации для optuna.\n",
    "#     '''\n",
    "#     params = {\n",
    "#         'random_seed': 42,\n",
    "#         'verbose': 0,\n",
    "#         'eval_metric': 'MAPE',\n",
    "#         'iterations': trial.suggest_int('iterations', 1000, 2100),\n",
    "#         'learning_rate': trial.suggest_float('learning_rate', 1e-3, 0.1, log=True),\n",
    "#         'depth': trial.suggest_int('depth', 3, 12),\n",
    "#         'l2_leaf_reg': trial.suggest_float('l2_leaf_reg', 1e-8, 10.0, log=True),\n",
    "#         'cat_features': lst_features,\n",
    "#         # 'bagging_temperature': trial.suggest_float('bagging_temperature', 0.0, 10.0),\n",
    "#         # 'random_strength': trial.suggest_float(\"random_strength\", 1e-8, 10.0, log=True)\n",
    "#     }\n",
    "    \n",
    "#     model = CatBoostRegressor(**params)\n",
    "#     model.fit(X_train, y_train, eval_set=(X_test, y_test))\n",
    "#     predictions = model.predict(X_test)\n",
    "#     return mean_absolute_percentage_error(y_test, predictions)\n",
    "    \n",
    "# study = optuna.create_study(direction='minimize')\n",
    "# study.optimize(objective, n_trials=30)"
   ]
  },
  {
   "cell_type": "code",
   "execution_count": 15,
   "id": "36e99bfc-b213-4183-9d93-478814901f76",
   "metadata": {},
   "outputs": [
    {
     "data": {
      "text/plain": [
       "{'iterations': 1344,\n",
       " 'learning_rate': 0.050046525553752046,\n",
       " 'depth': 12,\n",
       " 'l2_leaf_reg': 0.001428611939083863}"
      ]
     },
     "execution_count": 15,
     "metadata": {},
     "output_type": "execute_result"
    }
   ],
   "source": [
    "# study.best_params"
   ]
  },
  {
   "cell_type": "code",
   "execution_count": 9,
   "id": "987b0357-6aac-4e8a-87b3-91b3b0df56c4",
   "metadata": {},
   "outputs": [
    {
     "data": {
      "text/plain": [
       "0.18414318341017216"
      ]
     },
     "execution_count": 9,
     "metadata": {},
     "output_type": "execute_result"
    }
   ],
   "source": [
    "cat_model = CatBoostRegressor(\n",
    "    cat_features=lst_features, verbose=0, random_seed=42,\n",
    "    loss_function='MAPE', eval_metric='MAPE')\n",
    "\n",
    "cat_model.fit(X_train, y_train, eval_set=(X_test, y_test))\n",
    "y_pred = cat_model.predict(X_test)\n",
    "mae = mean_absolute_percentage_error(y_test, y_pred)\n",
    "pred = cat_model.predict(df_pred)\n",
    "mae"
   ]
  },
  {
   "cell_type": "code",
   "execution_count": 10,
   "id": "f07e38c1-c34c-4cfe-8125-5881901cfa1e",
   "metadata": {},
   "outputs": [],
   "source": [
    "df_pred_duble = pd.read_csv('data/test.csv')\n",
    "df_pred_Id = df_pred_duble['id']\n",
    "\n",
    "output = pd.DataFrame({'id': df_pred_Id, 'num_sold': pred})\n",
    "output.to_csv('data/cat_model.csv', index=False)"
   ]
  },
  {
   "cell_type": "code",
   "execution_count": null,
   "id": "754f6d0c-8716-4438-bd7b-a0b2073908fb",
   "metadata": {},
   "outputs": [],
   "source": []
  }
 ],
 "metadata": {
  "kernelspec": {
   "display_name": "Python 3 (ipykernel)",
   "language": "python",
   "name": "python3"
  },
  "language_info": {
   "codemirror_mode": {
    "name": "ipython",
    "version": 3
   },
   "file_extension": ".py",
   "mimetype": "text/x-python",
   "name": "python",
   "nbconvert_exporter": "python",
   "pygments_lexer": "ipython3",
   "version": "3.10.11"
  }
 },
 "nbformat": 4,
 "nbformat_minor": 5
}
