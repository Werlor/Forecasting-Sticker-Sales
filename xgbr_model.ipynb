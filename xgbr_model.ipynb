{
 "cells": [
  {
   "cell_type": "code",
   "execution_count": 1,
   "id": "4a178184-0065-4013-9783-100916efedd8",
   "metadata": {},
   "outputs": [],
   "source": [
    "import numpy as np\n",
    "import pandas as pd\n",
    "import holidays\n",
    "import optuna\n",
    "\n",
    "from xgboost import XGBRegressor\n",
    "from sklearn.model_selection import train_test_split, cross_val_score, KFold \n",
    "from sklearn.metrics import mean_absolute_percentage_error, make_scorer"
   ]
  },
  {
   "cell_type": "code",
   "execution_count": 2,
   "id": "28449947-7413-4363-a3a5-1c5576c4c63b",
   "metadata": {},
   "outputs": [],
   "source": [
    "df = pd.read_csv('data/train.csv')\n",
    "df_pred = pd.read_csv('data/test.csv')"
   ]
  },
  {
   "cell_type": "code",
   "execution_count": 3,
   "id": "b9f2f67c-d357-4a6e-a03e-170c47604d7e",
   "metadata": {},
   "outputs": [],
   "source": [
    "# Привожу дату к типу pd.datetime\n",
    "df['date'] = pd.to_datetime(df['date'], format='%Y-%m-%d')\n",
    "df_pred['date'] = pd.to_datetime(df_pred['date'], format='%Y-%m-%d')"
   ]
  },
  {
   "cell_type": "code",
   "execution_count": 4,
   "id": "634e01e1-cb4b-4816-9800-d9a3c57dabcf",
   "metadata": {},
   "outputs": [],
   "source": [
    "# Новые признаки из даты\n",
    "df['day'] = df.date.dt.day\n",
    "df['month'] = df.date.dt.month\n",
    "df['year'] = df.date.dt.year\n",
    "df['quarter'] = df.date.dt.quarter\n",
    "df['dayofyear'] = df.date.dt.dayofyear\n",
    "df['weekday'] = df.date.dt.weekday\n",
    "\n",
    "df_pred['day'] = df_pred.date.dt.day\n",
    "df_pred['month'] = df_pred.date.dt.month\n",
    "df_pred['year'] = df_pred.date.dt.year\n",
    "df_pred['quarter'] = df_pred.date.dt.quarter\n",
    "df_pred['dayofyear'] = df_pred.date.dt.dayofyear\n",
    "df_pred['weekday'] = df_pred.date.dt.weekday"
   ]
  },
  {
   "cell_type": "code",
   "execution_count": 5,
   "id": "bb22dc8e-8cda-432a-ac5f-81f34f7115b6",
   "metadata": {},
   "outputs": [],
   "source": [
    "# holiday_dict = {\n",
    "#     'Canada': holidays.CA(),\n",
    "#     'Finland': holidays.FI(),\n",
    "#     'Italy': holidays.IT(),\n",
    "#     'Kenya': holidays.KE(),\n",
    "#     'Norway': holidays.NO(),\n",
    "#     'Singapore': holidays.SG()\n",
    "# }\n",
    "\n",
    "\n",
    "# def is_holiday(row):\n",
    "#     country = row['country']\n",
    "#     date = row['date']\n",
    "    \n",
    "#     if date in holiday_dict[country]:\n",
    "#         return True\n",
    "#     else:\n",
    "#         return False\n",
    "\n",
    "\n",
    "# def is_weekend(row):\n",
    "#     date = row['date']\n",
    "\n",
    "#     if date.weekday() >= 5:\n",
    "#         return True\n",
    "#     else:\n",
    "#         return False\n",
    "\n",
    "\n",
    "# df['weekend'] = df.apply(is_weekend, axis=1)\n",
    "# df['holiday'] = df.apply(is_holiday, axis=1)\n",
    "\n",
    "# df_pred['weekend'] = df_pred.apply(is_weekend, axis=1)\n",
    "# df_pred['holiday'] = df_pred.apply(is_holiday, axis=1)"
   ]
  },
  {
   "cell_type": "code",
   "execution_count": 5,
   "id": "5f58b517-4a2f-4e61-aee0-dabfe6c262e6",
   "metadata": {},
   "outputs": [],
   "source": [
    "# Удаляю id\n",
    "df.drop(columns='id', inplace=True)\n",
    "df_pred.drop(columns='id', inplace=True)\n",
    "\n",
    "# Удаляю Nan значения\n",
    "df.dropna(subset=['num_sold'], inplace=True)"
   ]
  },
  {
   "cell_type": "code",
   "execution_count": 6,
   "id": "6f6e5591-2305-451e-b625-599ea5c05574",
   "metadata": {},
   "outputs": [],
   "source": [
    "# удаляю date\n",
    "df.drop(columns='date', inplace=True)\n",
    "df_pred.drop(columns='date', inplace=True)"
   ]
  },
  {
   "cell_type": "code",
   "execution_count": 7,
   "id": "3edfa898-8e39-4961-b21a-9141aef911d3",
   "metadata": {},
   "outputs": [],
   "source": [
    "def cat_val(df, column):\n",
    "    uniq = df[column].unique()\n",
    "    for i in uniq:\n",
    "        df[i] = df[column].apply(lambda x: x == i)\n",
    "    df.drop(columns=column, inplace=True)\n",
    "\n",
    "\n",
    "for i in ['country', 'store', 'product']:\n",
    "    cat_val(df, i)\n",
    "    cat_val(df_pred, i)"
   ]
  },
  {
   "cell_type": "code",
   "execution_count": 8,
   "id": "d0145f7e-3b38-48fe-b778-a93455304b5f",
   "metadata": {},
   "outputs": [],
   "source": [
    "X = df.drop(columns='num_sold')\n",
    "y = df['num_sold']\n",
    "\n",
    "X_train, X_test, y_train, y_test = train_test_split(X, y, test_size=0.2, random_state=11)"
   ]
  },
  {
   "cell_type": "code",
   "execution_count": 9,
   "id": "8bc91feb-88a7-4b72-8852-a12ba287ca5f",
   "metadata": {},
   "outputs": [],
   "source": [
    "# Синхронизация столбцов\n",
    "df_pred = df_pred[X.columns]"
   ]
  },
  {
   "cell_type": "code",
   "execution_count": null,
   "id": "85739ffd-9e26-494a-bb85-9bae662b6be3",
   "metadata": {},
   "outputs": [],
   "source": []
  },
  {
   "cell_type": "code",
   "execution_count": null,
   "id": "520b1d30-daaf-442b-937c-dc9836e2ae53",
   "metadata": {},
   "outputs": [],
   "source": []
  },
  {
   "cell_type": "code",
   "execution_count": 10,
   "id": "06f48476-0ebd-46c5-bed6-b460a9c3132f",
   "metadata": {
    "collapsed": true,
    "jupyter": {
     "outputs_hidden": true
    }
   },
   "outputs": [
    {
     "name": "stderr",
     "output_type": "stream",
     "text": [
      "[I 2025-01-20 16:49:53,900] A new study created in memory with name: no-name-45baba9a-747a-418b-b7de-5c37c7718e30\n",
      "[I 2025-01-20 16:49:56,966] Trial 0 finished with value: 2.9766951060952263 and parameters: {'max_depth': 9, 'learning_rate': 0.0988959793970302, 'n_estimators': 257, 'min_child_weight': 8, 'gamma': 0.7254990115973348, 'subsample': 0.6570276828649558, 'colsample_bytree': 0.045203911673730085, 'reg_alpha': 0.222228087148357, 'reg_lambda': 0.14127799330740717}. Best is trial 0 with value: 2.9766951060952263.\n",
      "[I 2025-01-20 16:50:03,691] Trial 1 finished with value: 0.5231144377609577 and parameters: {'max_depth': 3, 'learning_rate': 0.11015859279429664, 'n_estimators': 593, 'min_child_weight': 9, 'gamma': 0.614826275671072, 'subsample': 0.6306756378561864, 'colsample_bytree': 0.7483577947202201, 'reg_alpha': 0.5596096138041716, 'reg_lambda': 0.7271570565903668}. Best is trial 1 with value: 0.5231144377609577.\n",
      "[I 2025-01-20 16:50:12,074] Trial 2 finished with value: 0.4164541123078407 and parameters: {'max_depth': 3, 'learning_rate': 0.9566328067998194, 'n_estimators': 796, 'min_child_weight': 10, 'gamma': 0.17456003512650875, 'subsample': 0.7374841041866952, 'colsample_bytree': 0.8427612050350802, 'reg_alpha': 0.2748657998787326, 'reg_lambda': 0.1938448077340832}. Best is trial 2 with value: 0.4164541123078407.\n",
      "[I 2025-01-20 16:50:44,586] Trial 3 finished with value: 0.5456297510722387 and parameters: {'max_depth': 13, 'learning_rate': 0.5267832278598391, 'n_estimators': 934, 'min_child_weight': 8, 'gamma': 0.9793184798181571, 'subsample': 0.3765185560211212, 'colsample_bytree': 0.3465353201925171, 'reg_alpha': 0.5676226554261835, 'reg_lambda': 0.3524357990974764}. Best is trial 2 with value: 0.4164541123078407.\n",
      "[I 2025-01-20 16:51:03,639] Trial 4 finished with value: 0.11658958491340607 and parameters: {'max_depth': 12, 'learning_rate': 0.06875892634732772, 'n_estimators': 375, 'min_child_weight': 1, 'gamma': 0.8983446445666087, 'subsample': 0.23675690770615615, 'colsample_bytree': 0.8567999895428925, 'reg_alpha': 0.6249254553205645, 'reg_lambda': 0.023106373661671377}. Best is trial 4 with value: 0.11658958491340607.\n",
      "[I 2025-01-20 16:51:14,494] Trial 5 finished with value: 0.10351847420245909 and parameters: {'max_depth': 13, 'learning_rate': 0.11231401070478837, 'n_estimators': 196, 'min_child_weight': 4, 'gamma': 0.22788715623281472, 'subsample': 0.9316850251954674, 'colsample_bytree': 0.6470870593043787, 'reg_alpha': 0.2965005856305382, 'reg_lambda': 0.8599026912406592}. Best is trial 5 with value: 0.10351847420245909.\n",
      "[I 2025-01-20 16:51:15,310] Trial 6 finished with value: 7.585884270909917 and parameters: {'max_depth': 3, 'learning_rate': 0.026254001839082282, 'n_estimators': 70, 'min_child_weight': 6, 'gamma': 0.6994275404372208, 'subsample': 0.15745327587404281, 'colsample_bytree': 0.06423979704187427, 'reg_alpha': 0.3393280577154136, 'reg_lambda': 0.5192142614018822}. Best is trial 5 with value: 0.10351847420245909.\n",
      "[I 2025-01-20 16:51:21,663] Trial 7 finished with value: 0.434020618273961 and parameters: {'max_depth': 5, 'learning_rate': 0.7740306711826882, 'n_estimators': 445, 'min_child_weight': 3, 'gamma': 0.349294944483812, 'subsample': 0.3439160489837268, 'colsample_bytree': 0.28512040420502144, 'reg_alpha': 0.88242697386483, 'reg_lambda': 0.18380318683217944}. Best is trial 5 with value: 0.10351847420245909.\n",
      "[I 2025-01-20 16:51:29,886] Trial 8 finished with value: 1.1782101325706036 and parameters: {'max_depth': 8, 'learning_rate': 0.40139137084727894, 'n_estimators': 645, 'min_child_weight': 9, 'gamma': 0.26164419450351684, 'subsample': 0.25323279966779527, 'colsample_bytree': 0.1126495539718499, 'reg_alpha': 0.6407176782994223, 'reg_lambda': 0.6228237734009537}. Best is trial 5 with value: 0.10351847420245909.\n",
      "[I 2025-01-20 16:52:02,944] Trial 9 finished with value: 0.5231601575544061 and parameters: {'max_depth': 14, 'learning_rate': 0.2840438472145148, 'n_estimators': 652, 'min_child_weight': 4, 'gamma': 0.8485751245085176, 'subsample': 0.4005823314288107, 'colsample_bytree': 0.41572693910827435, 'reg_alpha': 0.794269012623007, 'reg_lambda': 0.46599025261677396}. Best is trial 5 with value: 0.10351847420245909.\n",
      "[I 2025-01-20 16:52:06,868] Trial 10 finished with value: 0.14240538133462605 and parameters: {'max_depth': 10, 'learning_rate': 0.6047826482307279, 'n_estimators': 70, 'min_child_weight': 5, 'gamma': 0.030684631023610798, 'subsample': 0.9950726254205479, 'colsample_bytree': 0.62070093031245, 'reg_alpha': 0.0064803988123133816, 'reg_lambda': 0.9947158897049831}. Best is trial 5 with value: 0.10351847420245909.\n",
      "[I 2025-01-20 16:52:25,069] Trial 11 finished with value: 1.1792318135169844 and parameters: {'max_depth': 12, 'learning_rate': 0.2915497994500131, 'n_estimators': 331, 'min_child_weight': 1, 'gamma': 0.42881726251979163, 'subsample': 0.031952890791608346, 'colsample_bytree': 0.9673932849505757, 'reg_alpha': 0.40507124437602393, 'reg_lambda': 0.8836575084475339}. Best is trial 5 with value: 0.10351847420245909.\n",
      "[I 2025-01-20 16:53:03,936] Trial 12 finished with value: 0.21700175956349324 and parameters: {'max_depth': 15, 'learning_rate': 0.19725058793587047, 'n_estimators': 253, 'min_child_weight': 1, 'gamma': 0.5436440464916139, 'subsample': 0.9840782162550311, 'colsample_bytree': 0.610905001707624, 'reg_alpha': 0.09714821837773552, 'reg_lambda': 0.007663800396653896}. Best is trial 5 with value: 0.10351847420245909.\n",
      "[I 2025-01-20 16:53:25,557] Trial 13 finished with value: 0.1614493974729367 and parameters: {'max_depth': 11, 'learning_rate': 0.36487445548416747, 'n_estimators': 413, 'min_child_weight': 3, 'gamma': 0.0311821141668939, 'subsample': 0.8100822859522527, 'colsample_bytree': 0.9937846706325404, 'reg_alpha': 0.6754061414071745, 'reg_lambda': 0.7592095206420475}. Best is trial 5 with value: 0.10351847420245909.\n",
      "[I 2025-01-20 16:53:30,542] Trial 14 finished with value: 0.1306841979997504 and parameters: {'max_depth': 7, 'learning_rate': 0.18115188574976335, 'n_estimators': 183, 'min_child_weight': 2, 'gamma': 0.9307657329392969, 'subsample': 0.5278562059365322, 'colsample_bytree': 0.8198011356292334, 'reg_alpha': 0.4509703764952644, 'reg_lambda': 0.3523810246489436}. Best is trial 5 with value: 0.10351847420245909.\n",
      "[I 2025-01-20 16:53:47,049] Trial 15 finished with value: 39.911738075067184 and parameters: {'max_depth': 12, 'learning_rate': 0.6630558855245922, 'n_estimators': 487, 'min_child_weight': 6, 'gamma': 0.15986036135117576, 'subsample': 0.05291446335371189, 'colsample_bytree': 0.6493201587794509, 'reg_alpha': 0.7635675581409347, 'reg_lambda': 0.8508398576365213}. Best is trial 5 with value: 0.10351847420245909.\n",
      "[I 2025-01-20 16:54:11,242] Trial 16 finished with value: 0.26242417762074516 and parameters: {'max_depth': 15, 'learning_rate': 0.04456360568439233, 'n_estimators': 345, 'min_child_weight': 4, 'gamma': 0.4757473799491038, 'subsample': 0.8334939695944994, 'colsample_bytree': 0.4919176269050089, 'reg_alpha': 0.9561188214475522, 'reg_lambda': 0.028498562578683363}. Best is trial 5 with value: 0.10351847420245909.\n",
      "[I 2025-01-20 16:54:14,811] Trial 17 finished with value: 0.16810659138191617 and parameters: {'max_depth': 6, 'learning_rate': 0.21194846237474196, 'n_estimators': 181, 'min_child_weight': 2, 'gamma': 0.8205164380088819, 'subsample': 0.5045961808927497, 'colsample_bytree': 0.7219853303068289, 'reg_alpha': 0.1831692041960692, 'reg_lambda': 0.6030126800975217}. Best is trial 5 with value: 0.10351847420245909.\n",
      "[I 2025-01-20 16:54:20,080] Trial 18 finished with value: 0.23608969175767333 and parameters: {'max_depth': 10, 'learning_rate': 0.4205866196466523, 'n_estimators': 169, 'min_child_weight': 5, 'gamma': 0.34219246926938046, 'subsample': 0.2601196910289698, 'colsample_bytree': 0.8847584126810562, 'reg_alpha': 0.49489094161587976, 'reg_lambda': 0.30549610692135765}. Best is trial 5 with value: 0.10351847420245909.\n",
      "[I 2025-01-20 16:54:53,749] Trial 19 finished with value: 0.276669555853729 and parameters: {'max_depth': 13, 'learning_rate': 0.2813452567991746, 'n_estimators': 558, 'min_child_weight': 2, 'gamma': 0.2000120754088638, 'subsample': 0.5125611619382269, 'colsample_bytree': 0.5326199815095644, 'reg_alpha': 0.3381037427918426, 'reg_lambda': 0.9460228035526237}. Best is trial 5 with value: 0.10351847420245909.\n",
      "[I 2025-01-20 16:54:56,553] Trial 20 finished with value: 4.354792761934597 and parameters: {'max_depth': 1, 'learning_rate': 0.9951793259946258, 'n_estimators': 353, 'min_child_weight': 7, 'gamma': 0.5892372135494998, 'subsample': 0.12807671604407972, 'colsample_bytree': 0.7391519041992637, 'reg_alpha': 0.7064858622437256, 'reg_lambda': 0.7543198918934881}. Best is trial 5 with value: 0.10351847420245909.\n",
      "[I 2025-01-20 16:55:00,687] Trial 21 finished with value: 0.13068378930871183 and parameters: {'max_depth': 7, 'learning_rate': 0.15841759684182616, 'n_estimators': 192, 'min_child_weight': 2, 'gamma': 0.9864886430058748, 'subsample': 0.5348630153150142, 'colsample_bytree': 0.8423483993744489, 'reg_alpha': 0.43918967185366026, 'reg_lambda': 0.3402494970990746}. Best is trial 5 with value: 0.10351847420245909.\n",
      "[I 2025-01-20 16:55:07,609] Trial 22 finished with value: 0.09725170494660149 and parameters: {'max_depth': 8, 'learning_rate': 0.09305037634437643, 'n_estimators': 274, 'min_child_weight': 3, 'gamma': 0.8854320234946274, 'subsample': 0.6226460692022673, 'colsample_bytree': 0.9031208159931385, 'reg_alpha': 0.3860874224784659, 'reg_lambda': 0.4736581176941358}. Best is trial 22 with value: 0.09725170494660149.\n",
      "[I 2025-01-20 16:55:16,978] Trial 23 finished with value: 0.07758880017091065 and parameters: {'max_depth': 9, 'learning_rate': 0.0525264157662289, 'n_estimators': 296, 'min_child_weight': 4, 'gamma': 0.8121978031979132, 'subsample': 0.7459711988520065, 'colsample_bytree': 0.938745279126737, 'reg_alpha': 0.5768455613387862, 'reg_lambda': 0.45371908301612107}. Best is trial 23 with value: 0.07758880017091065.\n",
      "[I 2025-01-20 16:55:23,313] Trial 24 finished with value: 0.4878193418952099 and parameters: {'max_depth': 8, 'learning_rate': 0.011046098843166013, 'n_estimators': 276, 'min_child_weight': 4, 'gamma': 0.7067405902489742, 'subsample': 0.8762533080048758, 'colsample_bytree': 0.9284520137893202, 'reg_alpha': 0.3702180070610504, 'reg_lambda': 0.46010111944723}. Best is trial 23 with value: 0.07758880017091065.\n",
      "[I 2025-01-20 16:55:26,665] Trial 25 finished with value: 0.07669182529075513 and parameters: {'max_depth': 10, 'learning_rate': 0.13312288891917246, 'n_estimators': 95, 'min_child_weight': 3, 'gamma': 0.7679124178099045, 'subsample': 0.9096481807617915, 'colsample_bytree': 0.7498722983699142, 'reg_alpha': 0.26043986257986357, 'reg_lambda': 0.5745473316029873}. Best is trial 25 with value: 0.07669182529075513.\n",
      "[I 2025-01-20 16:55:30,066] Trial 26 finished with value: 0.10256451765539285 and parameters: {'max_depth': 9, 'learning_rate': 0.2434001437691673, 'n_estimators': 113, 'min_child_weight': 3, 'gamma': 0.7881902986040645, 'subsample': 0.7313273395854039, 'colsample_bytree': 0.7748379225557209, 'reg_alpha': 0.14999800616239645, 'reg_lambda': 0.578052977964379}. Best is trial 25 with value: 0.07669182529075513.\n",
      "[I 2025-01-20 16:55:39,292] Trial 27 finished with value: 0.14753797294308066 and parameters: {'max_depth': 10, 'learning_rate': 0.3742304222444687, 'n_estimators': 269, 'min_child_weight': 5, 'gamma': 0.775006956829009, 'subsample': 0.7202091667199324, 'colsample_bytree': 0.9272879128466774, 'reg_alpha': 0.5263091055297577, 'reg_lambda': 0.6622421601087848}. Best is trial 25 with value: 0.07669182529075513.\n",
      "[I 2025-01-20 16:55:41,573] Trial 28 finished with value: 0.18602577287492433 and parameters: {'max_depth': 6, 'learning_rate': 0.12647373327866512, 'n_estimators': 116, 'min_child_weight': 3, 'gamma': 0.6343454754799337, 'subsample': 0.6323793206374083, 'colsample_bytree': 0.9242591900612205, 'reg_alpha': 0.22230054461440701, 'reg_lambda': 0.6900147010543304}. Best is trial 25 with value: 0.07669182529075513.\n",
      "[I 2025-01-20 16:55:49,082] Trial 29 finished with value: 0.0872522086445462 and parameters: {'max_depth': 9, 'learning_rate': 0.09348303086940599, 'n_estimators': 268, 'min_child_weight': 4, 'gamma': 0.8907488517654576, 'subsample': 0.80046221311228, 'colsample_bytree': 0.6804477626498108, 'reg_alpha': 0.2619349063960761, 'reg_lambda': 0.41501562772175227}. Best is trial 25 with value: 0.07669182529075513.\n",
      "[I 2025-01-20 16:55:50,913] Trial 30 finished with value: 0.15495186640868785 and parameters: {'max_depth': 9, 'learning_rate': 0.49987582901772265, 'n_estimators': 55, 'min_child_weight': 6, 'gamma': 0.7220716691183447, 'subsample': 0.8939910011298968, 'colsample_bytree': 0.5370468977621208, 'reg_alpha': 0.02485651890756066, 'reg_lambda': 0.2694698650097207}. Best is trial 25 with value: 0.07669182529075513.\n",
      "[I 2025-01-20 16:55:59,670] Trial 31 finished with value: 0.08717384393103329 and parameters: {'max_depth': 9, 'learning_rate': 0.08593550443687126, 'n_estimators': 288, 'min_child_weight': 4, 'gamma': 0.8863122709059845, 'subsample': 0.7993413783037897, 'colsample_bytree': 0.6963308982155731, 'reg_alpha': 0.25130542355655794, 'reg_lambda': 0.43125914776288654}. Best is trial 25 with value: 0.07669182529075513.\n",
      "[I 2025-01-20 16:56:19,418] Trial 32 finished with value: 0.11698875770857516 and parameters: {'max_depth': 11, 'learning_rate': 0.13679213744574606, 'n_estimators': 440, 'min_child_weight': 4, 'gamma': 0.9268286574786453, 'subsample': 0.7924314581982733, 'colsample_bytree': 0.6721660633233214, 'reg_alpha': 0.24981640342910583, 'reg_lambda': 0.4024371206664735}. Best is trial 25 with value: 0.07669182529075513.\n",
      "[I 2025-01-20 16:56:23,321] Trial 33 finished with value: 0.08419148640434607 and parameters: {'max_depth': 9, 'learning_rate': 0.08757783795399374, 'n_estimators': 129, 'min_child_weight': 5, 'gamma': 0.7813580679237109, 'subsample': 0.6851135845247738, 'colsample_bytree': 0.7887648550370197, 'reg_alpha': 0.10572704248353762, 'reg_lambda': 0.5239887488357097}. Best is trial 25 with value: 0.07669182529075513.\n",
      "[I 2025-01-20 16:56:27,667] Trial 34 finished with value: 0.7403232154482131 and parameters: {'max_depth': 11, 'learning_rate': 0.023860479326506916, 'n_estimators': 114, 'min_child_weight': 7, 'gamma': 0.6693010499740316, 'subsample': 0.6576536465735588, 'colsample_bytree': 0.7711970070263746, 'reg_alpha': 0.10835777631716675, 'reg_lambda': 0.5392399274698876}. Best is trial 25 with value: 0.07669182529075513.\n",
      "[I 2025-01-20 16:56:47,077] Trial 35 finished with value: 0.13232057154717078 and parameters: {'max_depth': 7, 'learning_rate': 0.2362327686069861, 'n_estimators': 986, 'min_child_weight': 5, 'gamma': 0.7534191821493782, 'subsample': 0.7097539990341881, 'colsample_bytree': 0.8055585559205571, 'reg_alpha': 0.0844132762685561, 'reg_lambda': 0.5540763614164298}. Best is trial 25 with value: 0.07669182529075513.\n",
      "[I 2025-01-20 16:56:52,651] Trial 36 finished with value: 0.09921304141296121 and parameters: {'max_depth': 10, 'learning_rate': 0.1588065480735076, 'n_estimators': 143, 'min_child_weight': 7, 'gamma': 0.8170329180613781, 'subsample': 0.9227541719153453, 'colsample_bytree': 0.5802605160049955, 'reg_alpha': 0.18951784390199916, 'reg_lambda': 0.2533528893010495}. Best is trial 25 with value: 0.07669182529075513.\n",
      "[I 2025-01-20 16:56:57,995] Trial 37 finished with value: 0.28470343330003345 and parameters: {'max_depth': 5, 'learning_rate': 0.8386350306522746, 'n_estimators': 228, 'min_child_weight': 5, 'gamma': 0.5851329926617368, 'subsample': 0.5887880956115917, 'colsample_bytree': 0.707541311204748, 'reg_alpha': 0.5968933102693335, 'reg_lambda': 0.40994819063169635}. Best is trial 25 with value: 0.07669182529075513.\n",
      "[I 2025-01-20 16:57:17,775] Trial 38 finished with value: 0.09729372812315065 and parameters: {'max_depth': 8, 'learning_rate': 0.06530700531265451, 'n_estimators': 846, 'min_child_weight': 6, 'gamma': 0.986612328498739, 'subsample': 0.6818915481833867, 'colsample_bytree': 0.8596984460381483, 'reg_alpha': 0.14604234214686232, 'reg_lambda': 0.5209238895088479}. Best is trial 25 with value: 0.07669182529075513.\n",
      "[I 2025-01-20 16:57:30,276] Trial 39 finished with value: 0.0837935211066236 and parameters: {'max_depth': 9, 'learning_rate': 0.06920469194715809, 'n_estimators': 397, 'min_child_weight': 4, 'gamma': 0.8579297794993829, 'subsample': 0.7648518220250442, 'colsample_bytree': 0.7793580932628449, 'reg_alpha': 0.05602251303644792, 'reg_lambda': 0.653913917458038}. Best is trial 25 with value: 0.07669182529075513.\n",
      "[I 2025-01-20 16:57:45,319] Trial 40 finished with value: 0.1435094977894678 and parameters: {'max_depth': 11, 'learning_rate': 0.3128656092334112, 'n_estimators': 323, 'min_child_weight': 3, 'gamma': 0.6311260772205542, 'subsample': 0.8724288420945293, 'colsample_bytree': 0.7981789375442184, 'reg_alpha': 0.0453013623335706, 'reg_lambda': 0.6580584480714659}. Best is trial 25 with value: 0.07669182529075513.\n",
      "[I 2025-01-20 16:57:56,867] Trial 41 finished with value: 0.08687401283026185 and parameters: {'max_depth': 9, 'learning_rate': 0.07910394411376494, 'n_estimators': 407, 'min_child_weight': 4, 'gamma': 0.8542560942055968, 'subsample': 0.7661241473390905, 'colsample_bytree': 0.7500811591552168, 'reg_alpha': 0.30245819450683953, 'reg_lambda': 0.6132756529247196}. Best is trial 25 with value: 0.07669182529075513.\n",
      "[I 2025-01-20 16:58:15,938] Trial 42 finished with value: 0.10960633172026889 and parameters: {'max_depth': 10, 'learning_rate': 0.12634299817617609, 'n_estimators': 563, 'min_child_weight': 4, 'gamma': 0.8586541087689137, 'subsample': 0.758769589980972, 'colsample_bytree': 0.7603604456213857, 'reg_alpha': 0.29994767062327626, 'reg_lambda': 0.7065105651247153}. Best is trial 25 with value: 0.07669182529075513.\n",
      "[I 2025-01-20 16:58:24,002] Trial 43 finished with value: 1.7942606441055509 and parameters: {'max_depth': 8, 'learning_rate': 0.05548193706613014, 'n_estimators': 394, 'min_child_weight': 5, 'gamma': 0.8115343408960658, 'subsample': 0.9446275174525942, 'colsample_bytree': 0.2046250631216614, 'reg_alpha': 0.07888559001971984, 'reg_lambda': 0.6139543992816591}. Best is trial 25 with value: 0.07669182529075513.\n",
      "[I 2025-01-20 16:58:38,778] Trial 44 finished with value: 0.08638865326679213 and parameters: {'max_depth': 9, 'learning_rate': 0.01598387640194765, 'n_estimators': 516, 'min_child_weight': 3, 'gamma': 0.9413110103004944, 'subsample': 0.8536798721212989, 'colsample_bytree': 0.9678373438300087, 'reg_alpha': 0.13628431551543077, 'reg_lambda': 0.7966966915205345}. Best is trial 25 with value: 0.07669182529075513.\n",
      "[I 2025-01-20 16:58:50,619] Trial 45 finished with value: 0.20131618756644487 and parameters: {'max_depth': 6, 'learning_rate': 0.011337728163453284, 'n_estimators': 642, 'min_child_weight': 10, 'gamma': 0.9555734402004509, 'subsample': 0.8478889967084655, 'colsample_bytree': 0.9959815597634544, 'reg_alpha': 0.15587421584153285, 'reg_lambda': 0.7593896879423683}. Best is trial 25 with value: 0.07669182529075513.\n",
      "[I 2025-01-20 16:59:20,394] Trial 46 finished with value: 0.13202122963263396 and parameters: {'max_depth': 12, 'learning_rate': 0.19270576757427293, 'n_estimators': 518, 'min_child_weight': 2, 'gamma': 0.6658536583604818, 'subsample': 0.9498517902332307, 'colsample_bytree': 0.844793202685465, 'reg_alpha': 0.04672699263068403, 'reg_lambda': 0.804023114309762}. Best is trial 25 with value: 0.07669182529075513.\n",
      "[I 2025-01-20 16:59:38,223] Trial 47 finished with value: 0.10837365170905137 and parameters: {'max_depth': 10, 'learning_rate': 0.124442231824511, 'n_estimators': 469, 'min_child_weight': 3, 'gamma': 0.7714346437531721, 'subsample': 0.5974274894765175, 'colsample_bytree': 0.9485910384719202, 'reg_alpha': 0.12175855221028967, 'reg_lambda': 0.6649881680596064}. Best is trial 25 with value: 0.07669182529075513.\n",
      "[I 2025-01-20 16:59:50,526] Trial 48 finished with value: 0.11059786397146798 and parameters: {'max_depth': 7, 'learning_rate': 0.055961620118238624, 'n_estimators': 515, 'min_child_weight': 1, 'gamma': 0.945945505402014, 'subsample': 0.6938181386044202, 'colsample_bytree': 0.8794737949319127, 'reg_alpha': 0.20948472123124387, 'reg_lambda': 0.49459359879612297}. Best is trial 25 with value: 0.07669182529075513.\n",
      "[I 2025-01-20 17:00:16,969] Trial 49 finished with value: 0.17663690252586944 and parameters: {'max_depth': 11, 'learning_rate': 0.24748732245221874, 'n_estimators': 601, 'min_child_weight': 3, 'gamma': 0.7369869590432595, 'subsample': 0.44721382104352636, 'colsample_bytree': 0.9816883965790683, 'reg_alpha': 0.01329706943506856, 'reg_lambda': 0.8406046461464363}. Best is trial 25 with value: 0.07669182529075513.\n",
      "[I 2025-01-20 17:00:35,012] Trial 50 finished with value: 0.13488004305150939 and parameters: {'max_depth': 8, 'learning_rate': 0.17574650327325514, 'n_estimators': 720, 'min_child_weight': 5, 'gamma': 0.5318125012159228, 'subsample': 0.9075213482838445, 'colsample_bytree': 0.405776140221792, 'reg_alpha': 0.53175218641687, 'reg_lambda': 0.9234268803445639}. Best is trial 25 with value: 0.07669182529075513.\n",
      "[I 2025-01-20 17:00:46,909] Trial 51 finished with value: 0.08856808445663775 and parameters: {'max_depth': 9, 'learning_rate': 0.08278342176702158, 'n_estimators': 430, 'min_child_weight': 4, 'gamma': 0.8484405811752697, 'subsample': 0.755607879018916, 'colsample_bytree': 0.8079744185339732, 'reg_alpha': 0.3272595411575043, 'reg_lambda': 0.5751180123578524}. Best is trial 25 with value: 0.07669182529075513.\n",
      "[I 2025-01-20 17:00:58,571] Trial 52 finished with value: 0.08668631628495722 and parameters: {'max_depth': 9, 'learning_rate': 0.05454980866156541, 'n_estimators': 380, 'min_child_weight': 4, 'gamma': 0.8547352593245565, 'subsample': 0.8601209525276435, 'colsample_bytree': 0.6236105468287859, 'reg_alpha': 0.07440692000570416, 'reg_lambda': 0.6295598961483655}. Best is trial 25 with value: 0.07669182529075513.\n",
      "[I 2025-01-20 17:01:07,424] Trial 53 finished with value: 0.09360575701021841 and parameters: {'max_depth': 10, 'learning_rate': 0.032661523146748146, 'n_estimators': 229, 'min_child_weight': 3, 'gamma': 0.8070586732214003, 'subsample': 0.842552935914054, 'colsample_bytree': 0.6057775852767602, 'reg_alpha': 0.06888472832911435, 'reg_lambda': 0.7903913765367401}. Best is trial 25 with value: 0.07669182529075513.\n",
      "[I 2025-01-20 17:01:20,135] Trial 54 finished with value: 0.10312968792866217 and parameters: {'max_depth': 9, 'learning_rate': 0.1361680594359192, 'n_estimators': 354, 'min_child_weight': 6, 'gamma': 0.9264881549062545, 'subsample': 0.8321838689058858, 'colsample_bytree': 0.5723277581374213, 'reg_alpha': 0.13008474382070212, 'reg_lambda': 0.49927659203129615}. Best is trial 25 with value: 0.07669182529075513.\n",
      "[I 2025-01-20 17:01:27,874] Trial 55 finished with value: 0.1676977534907801 and parameters: {'max_depth': 8, 'learning_rate': 0.6854743434296466, 'n_estimators': 314, 'min_child_weight': 2, 'gamma': 0.6821632120832128, 'subsample': 0.9612580259949909, 'colsample_bytree': 0.6395992089016651, 'reg_alpha': 0.18239403379053107, 'reg_lambda': 0.7150581843410044}. Best is trial 25 with value: 0.07669182529075513.\n",
      "[I 2025-01-20 17:01:43,493] Trial 56 finished with value: 0.07506264484895064 and parameters: {'max_depth': 11, 'learning_rate': 0.05729583399762601, 'n_estimators': 372, 'min_child_weight': 4, 'gamma': 0.7442055590898836, 'subsample': 0.8653174077189816, 'colsample_bytree': 0.8966949330706078, 'reg_alpha': 0.06819066482105564, 'reg_lambda': 0.6403217958712866}. Best is trial 56 with value: 0.07506264484895064.\n",
      "[I 2025-01-20 17:02:19,760] Trial 57 finished with value: 0.10991947670616391 and parameters: {'max_depth': 14, 'learning_rate': 0.09953780868905591, 'n_estimators': 465, 'min_child_weight': 5, 'gamma': 0.7539852875714903, 'subsample': 0.9929619014057821, 'colsample_bytree': 0.8774761727416625, 'reg_alpha': 0.6315191776647848, 'reg_lambda': 0.5670998617569677}. Best is trial 56 with value: 0.07506264484895064.\n",
      "[I 2025-01-20 17:02:32,010] Trial 58 finished with value: 0.0998991437204012 and parameters: {'max_depth': 12, 'learning_rate': 0.16298685437078533, 'n_estimators': 213, 'min_child_weight': 3, 'gamma': 0.9992920914147496, 'subsample': 0.8867518585278773, 'colsample_bytree': 0.909925802896732, 'reg_alpha': 0.7133586102213925, 'reg_lambda': 0.7351117938176575}. Best is trial 56 with value: 0.07506264484895064.\n",
      "[I 2025-01-20 17:02:39,072] Trial 59 finished with value: 0.0917203511061573 and parameters: {'max_depth': 12, 'learning_rate': 0.21579477734871447, 'n_estimators': 83, 'min_child_weight': 4, 'gamma': 0.9074592221775972, 'subsample': 0.7692442177559548, 'colsample_bytree': 0.9455432894198724, 'reg_alpha': 0.46680496442499286, 'reg_lambda': 0.45746187138745137}. Best is trial 56 with value: 0.07506264484895064.\n",
      "[I 2025-01-20 17:02:50,709] Trial 60 finished with value: 0.24473821240848 and parameters: {'max_depth': 13, 'learning_rate': 0.48816230461201676, 'n_estimators': 148, 'min_child_weight': 3, 'gamma': 0.7026453149253995, 'subsample': 0.5633174719381504, 'colsample_bytree': 0.8279897833134906, 'reg_alpha': 0.03961380325459475, 'reg_lambda': 0.36186366041111734}. Best is trial 56 with value: 0.07506264484895064.\n",
      "[I 2025-01-20 17:03:06,526] Trial 61 finished with value: 0.07278256025618741 and parameters: {'max_depth': 10, 'learning_rate': 0.05019407863625692, 'n_estimators': 402, 'min_child_weight': 4, 'gamma': 0.8554264434101652, 'subsample': 0.8626170129833725, 'colsample_bytree': 0.9567183365627028, 'reg_alpha': 0.0005360881649965274, 'reg_lambda': 0.6480573276890346}. Best is trial 61 with value: 0.07278256025618741.\n",
      "[I 2025-01-20 17:03:34,401] Trial 62 finished with value: 0.07273517072936685 and parameters: {'max_depth': 11, 'learning_rate': 0.04007549247659714, 'n_estimators': 484, 'min_child_weight': 4, 'gamma': 0.7802338811001267, 'subsample': 0.8107295862849492, 'colsample_bytree': 0.9640838603930131, 'reg_alpha': 0.11113659898537324, 'reg_lambda': 0.6707683969266544}. Best is trial 62 with value: 0.07273517072936685.\n",
      "[I 2025-01-20 17:03:55,295] Trial 63 finished with value: 0.07025253618790397 and parameters: {'max_depth': 11, 'learning_rate': 0.042374562119467996, 'n_estimators': 374, 'min_child_weight': 5, 'gamma': 0.7864887298477329, 'subsample': 0.8173160756033692, 'colsample_bytree': 0.8957838445528852, 'reg_alpha': 0.0019373901832483165, 'reg_lambda': 0.6537204119716202}. Best is trial 63 with value: 0.07025253618790397.\n",
      "[I 2025-01-20 17:04:10,493] Trial 64 finished with value: 0.06767824072757765 and parameters: {'max_depth': 11, 'learning_rate': 0.03726280543710147, 'n_estimators': 371, 'min_child_weight': 4, 'gamma': 0.8319815563336382, 'subsample': 0.8235254376756632, 'colsample_bytree': 0.9068019504083894, 'reg_alpha': 0.0025877214286044344, 'reg_lambda': 0.6469760156567756}. Best is trial 64 with value: 0.06767824072757765.\n",
      "[I 2025-01-20 17:04:22,672] Trial 65 finished with value: 0.06431677442132117 and parameters: {'max_depth': 11, 'learning_rate': 0.03742622333509524, 'n_estimators': 306, 'min_child_weight': 4, 'gamma': 0.7420128770318446, 'subsample': 0.8123273059883763, 'colsample_bytree': 0.908769136703726, 'reg_alpha': 0.007337080908229585, 'reg_lambda': 0.5871288955475212}. Best is trial 65 with value: 0.06431677442132117.\n",
      "[I 2025-01-20 17:04:45,637] Trial 66 finished with value: 0.1113984656948649 and parameters: {'max_depth': 13, 'learning_rate': 0.11269381944401707, 'n_estimators': 357, 'min_child_weight': 5, 'gamma': 0.7321450716936546, 'subsample': 0.8211027855055575, 'colsample_bytree': 0.8671797195419018, 'reg_alpha': 0.0026918432719548885, 'reg_lambda': 0.6842173835430718}. Best is trial 65 with value: 0.06431677442132117.\n",
      "[I 2025-01-20 17:05:02,981] Trial 67 finished with value: 0.06847636167339505 and parameters: {'max_depth': 11, 'learning_rate': 0.04252592758778877, 'n_estimators': 431, 'min_child_weight': 4, 'gamma': 0.6509450086215595, 'subsample': 0.9671648974758227, 'colsample_bytree': 0.8980940820744342, 'reg_alpha': 0.0007858962850884421, 'reg_lambda': 0.5980302506652403}. Best is trial 65 with value: 0.06431677442132117.\n",
      "[I 2025-01-20 17:05:21,188] Trial 68 finished with value: 0.06857786292091302 and parameters: {'max_depth': 11, 'learning_rate': 0.03536084042135243, 'n_estimators': 486, 'min_child_weight': 9, 'gamma': 0.5953468468627633, 'subsample': 0.9635316712883554, 'colsample_bytree': 0.9002882019800383, 'reg_alpha': 0.004276282712672608, 'reg_lambda': 0.6350430503777111}. Best is trial 65 with value: 0.06431677442132117.\n",
      "[I 2025-01-20 17:05:59,319] Trial 69 finished with value: 0.06350658883166775 and parameters: {'max_depth': 14, 'learning_rate': 0.028004665319390935, 'n_estimators': 470, 'min_child_weight': 8, 'gamma': 0.47325825909421004, 'subsample': 0.9730069822275014, 'colsample_bytree': 0.9985151345453688, 'reg_alpha': 0.015793794911908896, 'reg_lambda': 0.584616793802244}. Best is trial 69 with value: 0.06350658883166775.\n",
      "[I 2025-01-20 17:06:28,864] Trial 70 finished with value: 0.04830844076415687 and parameters: {'max_depth': 14, 'learning_rate': 0.016493572643297805, 'n_estimators': 473, 'min_child_weight': 9, 'gamma': 0.3814177915796502, 'subsample': 0.969849258739511, 'colsample_bytree': 0.9099611253675431, 'reg_alpha': 0.026882433059879224, 'reg_lambda': 0.5994041265478279}. Best is trial 70 with value: 0.04830844076415687.\n",
      "[I 2025-01-20 17:07:01,758] Trial 71 finished with value: 0.05723154290022186 and parameters: {'max_depth': 14, 'learning_rate': 0.012479550948489883, 'n_estimators': 492, 'min_child_weight': 9, 'gamma': 0.37374049868252857, 'subsample': 0.9728467185997149, 'colsample_bytree': 0.9951007627944722, 'reg_alpha': 0.02913850935257984, 'reg_lambda': 0.589252263837537}. Best is trial 70 with value: 0.04830844076415687.\n",
      "[I 2025-01-20 17:07:39,577] Trial 72 finished with value: 0.04689344141578025 and parameters: {'max_depth': 14, 'learning_rate': 0.01324387343234451, 'n_estimators': 553, 'min_child_weight': 9, 'gamma': 0.4049072989340031, 'subsample': 0.9726559002239704, 'colsample_bytree': 0.9935645291463002, 'reg_alpha': 0.028750306006211025, 'reg_lambda': 0.594248339112557}. Best is trial 72 with value: 0.04689344141578025.\n",
      "[I 2025-01-20 17:08:17,646] Trial 73 finished with value: 0.04705634830746089 and parameters: {'max_depth': 14, 'learning_rate': 0.013759121081556823, 'n_estimators': 557, 'min_child_weight': 9, 'gamma': 0.4015277450293173, 'subsample': 0.998210903583061, 'colsample_bytree': 0.9866098102276637, 'reg_alpha': 0.03253713741883907, 'reg_lambda': 0.6058145109308166}. Best is trial 72 with value: 0.04689344141578025.\n",
      "[I 2025-01-20 17:08:54,692] Trial 74 finished with value: 0.05247154874733876 and parameters: {'max_depth': 14, 'learning_rate': 0.016839602751773257, 'n_estimators': 558, 'min_child_weight': 9, 'gamma': 0.38012745580736446, 'subsample': 0.9974291147488327, 'colsample_bytree': 0.994557628084035, 'reg_alpha': 0.03492765281748078, 'reg_lambda': 0.5879634040444228}. Best is trial 72 with value: 0.04689344141578025.\n",
      "[I 2025-01-20 17:09:33,296] Trial 75 finished with value: 0.058621462252665325 and parameters: {'max_depth': 14, 'learning_rate': 0.019413642087955176, 'n_estimators': 579, 'min_child_weight': 9, 'gamma': 0.3932592147420152, 'subsample': 0.9991612168790204, 'colsample_bytree': 0.993000184244608, 'reg_alpha': 0.04186179505069925, 'reg_lambda': 0.5427892868602122}. Best is trial 72 with value: 0.04689344141578025.\n",
      "[I 2025-01-20 17:10:10,808] Trial 76 finished with value: 0.05022306256811205 and parameters: {'max_depth': 14, 'learning_rate': 0.011849913948410017, 'n_estimators': 568, 'min_child_weight': 9, 'gamma': 0.40262927192280473, 'subsample': 0.9960166351801305, 'colsample_bytree': 0.990896645333011, 'reg_alpha': 0.03364752140688977, 'reg_lambda': 0.5473037080721807}. Best is trial 72 with value: 0.04689344141578025.\n",
      "[I 2025-01-20 17:10:53,774] Trial 77 finished with value: 0.1212233871457612 and parameters: {'max_depth': 15, 'learning_rate': 0.10152638141650616, 'n_estimators': 557, 'min_child_weight': 9, 'gamma': 0.38669112068594397, 'subsample': 0.9941674333573248, 'colsample_bytree': 0.9978872151924179, 'reg_alpha': 0.043548933943667725, 'reg_lambda': 0.5439161340045713}. Best is trial 72 with value: 0.04689344141578025.\n",
      "[I 2025-01-20 17:11:38,555] Trial 78 finished with value: 0.2978799688230011 and parameters: {'max_depth': 14, 'learning_rate': 0.8782008069384705, 'n_estimators': 625, 'min_child_weight': 9, 'gamma': 0.3099007134385183, 'subsample': 0.9136345417870819, 'colsample_bytree': 0.9753613347044194, 'reg_alpha': 0.09731058596931914, 'reg_lambda': 0.5031592348879156}. Best is trial 72 with value: 0.04689344141578025.\n",
      "[I 2025-01-20 17:12:24,259] Trial 79 finished with value: 0.06654151484801502 and parameters: {'max_depth': 14, 'learning_rate': 0.020710624510887912, 'n_estimators': 703, 'min_child_weight': 8, 'gamma': 0.44679764889705403, 'subsample': 0.931031660683676, 'colsample_bytree': 0.9356687431244637, 'reg_alpha': 0.03529421710688206, 'reg_lambda': 0.5449808397586711}. Best is trial 72 with value: 0.04689344141578025.\n",
      "[I 2025-01-20 17:13:11,688] Trial 80 finished with value: 0.053799732258427546 and parameters: {'max_depth': 15, 'learning_rate': 0.011009926622431575, 'n_estimators': 580, 'min_child_weight': 8, 'gamma': 0.3850534390168264, 'subsample': 0.9756477147841219, 'colsample_bytree': 0.9978632814637357, 'reg_alpha': 0.09289508618379061, 'reg_lambda': 0.47813460455216045}. Best is trial 72 with value: 0.04689344141578025.\n",
      "[I 2025-01-20 17:13:56,783] Trial 81 finished with value: 0.05275250510657185 and parameters: {'max_depth': 15, 'learning_rate': 0.011213305978758217, 'n_estimators': 579, 'min_child_weight': 8, 'gamma': 0.39430712580983324, 'subsample': 0.9997290178274191, 'colsample_bytree': 0.9923240231996415, 'reg_alpha': 0.06477815663392295, 'reg_lambda': 0.5238904743092239}. Best is trial 72 with value: 0.04689344141578025.\n",
      "[I 2025-01-20 17:14:44,006] Trial 82 finished with value: 0.054011104671083415 and parameters: {'max_depth': 15, 'learning_rate': 0.016462999268830065, 'n_estimators': 585, 'min_child_weight': 10, 'gamma': 0.3934095058767834, 'subsample': 0.9990607122894338, 'colsample_bytree': 0.9704303175565496, 'reg_alpha': 0.09703611067803816, 'reg_lambda': 0.48198716921059587}. Best is trial 72 with value: 0.04689344141578025.\n",
      "[I 2025-01-20 17:15:41,892] Trial 83 finished with value: 0.1237319869607696 and parameters: {'max_depth': 15, 'learning_rate': 0.07537597784093092, 'n_estimators': 692, 'min_child_weight': 10, 'gamma': 0.30152368159145404, 'subsample': 0.9311842642639618, 'colsample_bytree': 0.9583108440373098, 'reg_alpha': 0.16091882174055344, 'reg_lambda': 0.4809602687785251}. Best is trial 72 with value: 0.04689344141578025.\n",
      "[I 2025-01-20 17:16:30,933] Trial 84 finished with value: 0.13660428769100977 and parameters: {'max_depth': 15, 'learning_rate': 0.1078152148573641, 'n_estimators': 603, 'min_child_weight': 10, 'gamma': 0.39636485319340625, 'subsample': 0.9711495530911756, 'colsample_bytree': 0.9316469199930586, 'reg_alpha': 0.08802476810536813, 'reg_lambda': 0.4270109425322045}. Best is trial 72 with value: 0.04689344141578025.\n",
      "[I 2025-01-20 17:17:12,034] Trial 85 finished with value: 0.05637145994633071 and parameters: {'max_depth': 15, 'learning_rate': 0.011481756103222144, 'n_estimators': 541, 'min_child_weight': 8, 'gamma': 0.4249390573374256, 'subsample': 0.9996320629059104, 'colsample_bytree': 0.9775135441204733, 'reg_alpha': 0.06506557463834238, 'reg_lambda': 0.5230232560467557}. Best is trial 72 with value: 0.04689344141578025.\n",
      "[I 2025-01-20 17:18:00,288] Trial 86 finished with value: 0.1470123881078931 and parameters: {'max_depth': 15, 'learning_rate': 0.1467198759670612, 'n_estimators': 545, 'min_child_weight': 8, 'gamma': 0.4273519210744105, 'subsample': 0.9312079841485252, 'colsample_bytree': 0.9624133421806971, 'reg_alpha': 0.06612746248799448, 'reg_lambda': 0.5118258435069968}. Best is trial 72 with value: 0.04689344141578025.\n",
      "[I 2025-01-20 17:18:44,794] Trial 87 finished with value: 0.1154680381466 and parameters: {'max_depth': 13, 'learning_rate': 0.0789201628438825, 'n_estimators': 668, 'min_child_weight': 8, 'gamma': 0.33751594930157247, 'subsample': 0.8984256131888948, 'colsample_bytree': 0.9280927039623242, 'reg_alpha': 0.1723511414320117, 'reg_lambda': 0.38370403692938126}. Best is trial 72 with value: 0.04689344141578025.\n",
      "[I 2025-01-20 17:19:32,673] Trial 88 finished with value: 0.053576359439528744 and parameters: {'max_depth': 15, 'learning_rate': 0.010301615296379282, 'n_estimators': 621, 'min_child_weight': 9, 'gamma': 0.42797922665961374, 'subsample': 0.9455181973619169, 'colsample_bytree': 0.9692240674076456, 'reg_alpha': 0.1250682341052649, 'reg_lambda': 0.4465883619288631}. Best is trial 72 with value: 0.04689344141578025.\n",
      "[I 2025-01-20 17:19:41,133] Trial 89 finished with value: 4.390851719927919 and parameters: {'max_depth': 15, 'learning_rate': 0.5630042270069125, 'n_estimators': 619, 'min_child_weight': 10, 'gamma': 0.26273507417906306, 'subsample': 0.9468392377409843, 'colsample_bytree': 0.024030008820787763, 'reg_alpha': 0.21167021805330788, 'reg_lambda': 0.46087464501191344}. Best is trial 72 with value: 0.04689344141578025.\n",
      "[I 2025-01-20 17:20:15,510] Trial 90 finished with value: 0.12134341444731749 and parameters: {'max_depth': 14, 'learning_rate': 0.06439781021822585, 'n_estimators': 583, 'min_child_weight': 9, 'gamma': 0.5038536162912439, 'subsample': 0.3228341057345394, 'colsample_bytree': 0.854744342822795, 'reg_alpha': 0.1239848899677956, 'reg_lambda': 0.491335929479055}. Best is trial 72 with value: 0.04689344141578025.\n",
      "[I 2025-01-20 17:20:58,494] Trial 91 finished with value: 0.11970961395238314 and parameters: {'max_depth': 15, 'learning_rate': 0.09720929065443204, 'n_estimators': 542, 'min_child_weight': 9, 'gamma': 0.36276023243492167, 'subsample': 0.9918722449986688, 'colsample_bytree': 0.9746395726380442, 'reg_alpha': 0.09652579380410868, 'reg_lambda': 0.5203339233422614}. Best is trial 72 with value: 0.04689344141578025.\n",
      "[I 2025-01-20 17:21:53,491] Trial 92 finished with value: 0.05473660859224906 and parameters: {'max_depth': 15, 'learning_rate': 0.015384468697880765, 'n_estimators': 670, 'min_child_weight': 7, 'gamma': 0.4308630380598588, 'subsample': 0.9510678920856928, 'colsample_bytree': 0.9461671797671967, 'reg_alpha': 0.06161946830292027, 'reg_lambda': 0.444939823344465}. Best is trial 72 with value: 0.04689344141578025.\n",
      "[I 2025-01-20 17:22:39,439] Trial 93 finished with value: 0.11408579843234226 and parameters: {'max_depth': 13, 'learning_rate': 0.07191096609869642, 'n_estimators': 745, 'min_child_weight': 7, 'gamma': 0.45564294167951014, 'subsample': 0.9498215568928841, 'colsample_bytree': 0.9556468846740508, 'reg_alpha': 0.14117775064264304, 'reg_lambda': 0.44743754151781495}. Best is trial 72 with value: 0.04689344141578025.\n",
      "[I 2025-01-20 17:23:33,336] Trial 94 finished with value: 0.1495269532565522 and parameters: {'max_depth': 15, 'learning_rate': 0.11778561841201583, 'n_estimators': 663, 'min_child_weight': 10, 'gamma': 0.41403414586059595, 'subsample': 0.9112926191706507, 'colsample_bytree': 0.9244900332845736, 'reg_alpha': 0.0918980169953541, 'reg_lambda': 0.39392652163225605}. Best is trial 72 with value: 0.04689344141578025.\n",
      "[I 2025-01-20 17:23:43,030] Trial 95 finished with value: 3.130699840985216 and parameters: {'max_depth': 14, 'learning_rate': 0.06410546758335582, 'n_estimators': 627, 'min_child_weight': 9, 'gamma': 0.33746624646551565, 'subsample': 0.8861926218487118, 'colsample_bytree': 0.12617701332630427, 'reg_alpha': 0.04965254390415287, 'reg_lambda': 0.29910548692674044}. Best is trial 72 with value: 0.04689344141578025.\n",
      "[I 2025-01-20 17:24:27,426] Trial 96 finished with value: 0.054130110730256684 and parameters: {'max_depth': 15, 'learning_rate': 0.017395713232034614, 'n_estimators': 581, 'min_child_weight': 9, 'gamma': 0.5045655082272035, 'subsample': 0.9478790891498785, 'colsample_bytree': 0.9375195003146305, 'reg_alpha': 0.029708929631343486, 'reg_lambda': 0.4363757133468913}. Best is trial 72 with value: 0.04689344141578025.\n",
      "[I 2025-01-20 17:24:59,081] Trial 97 finished with value: 0.11581654687119278 and parameters: {'max_depth': 13, 'learning_rate': 0.09725152483464286, 'n_estimators': 576, 'min_child_weight': 10, 'gamma': 0.4961047788463249, 'subsample': 0.9794179486680259, 'colsample_bytree': 0.9816876089486616, 'reg_alpha': 0.1109052540346439, 'reg_lambda': 0.5604019421597002}. Best is trial 72 with value: 0.04689344141578025.\n",
      "[I 2025-01-20 17:25:21,827] Trial 98 finished with value: 0.42351497970711793 and parameters: {'max_depth': 14, 'learning_rate': 0.05981317541982152, 'n_estimators': 602, 'min_child_weight': 8, 'gamma': 0.54396486961276, 'subsample': 0.9270700047863395, 'colsample_bytree': 0.3198416372309941, 'reg_alpha': 0.9598155216895512, 'reg_lambda': 0.4757393038128074}. Best is trial 72 with value: 0.04689344141578025.\n",
      "[I 2025-01-20 17:25:56,145] Trial 99 finished with value: 0.1119962434427754 and parameters: {'max_depth': 14, 'learning_rate': 0.08296562297861229, 'n_estimators': 524, 'min_child_weight': 9, 'gamma': 0.31607753550722895, 'subsample': 0.9460749167735275, 'colsample_bytree': 0.919943574685522, 'reg_alpha': 0.026212021823138948, 'reg_lambda': 0.6108631629455796}. Best is trial 72 with value: 0.04689344141578025.\n"
     ]
    }
   ],
   "source": [
    "def objective(trial: optuna.Trial):\n",
    "    '''\n",
    "    Обычная сигнатура функции оптимизации для optuna.\n",
    "    '''\n",
    "    param = {\n",
    "        'random_state': 42,\n",
    "        'max_depth': trial.suggest_int('max_depth', 1, 15),\n",
    "        'learning_rate': trial.suggest_float('learning_rate', 0.01, 1.0),\n",
    "        'n_estimators': trial.suggest_int('n_estimators', 50, 1000),\n",
    "        'min_child_weight': trial.suggest_int('min_child_weight', 1, 10),\n",
    "        'gamma': trial.suggest_float('gamma', 1e-8, 1.0),\n",
    "        'subsample': trial.suggest_float('subsample', 0.01, 1.0),\n",
    "        'colsample_bytree': trial.suggest_float('colsample_bytree', 0.01, 1.0),\n",
    "        'reg_alpha': trial.suggest_float('reg_alpha', 1e-8, 1.0),\n",
    "        'reg_lambda': trial.suggest_float('reg_lambda', 1e-8, 1.0)}\n",
    "\n",
    "    \n",
    "    xgbr_model = XGBRegressor(**param)\n",
    "    xgbr_model.fit(X_train, y_train)\n",
    "    y_pred = xgbr_model.predict(X_test)\n",
    "    return mean_absolute_percentage_error(y_test, y_pred)\n",
    "\n",
    "study = optuna.create_study(direction='minimize')\n",
    "study.optimize(objective, n_trials=100)"
   ]
  },
  {
   "cell_type": "code",
   "execution_count": 11,
   "id": "18b1b3b7-e42a-41fe-bd27-55d0dce391aa",
   "metadata": {},
   "outputs": [
    {
     "data": {
      "text/plain": [
       "{'max_depth': 14,\n",
       " 'learning_rate': 0.01324387343234451,\n",
       " 'n_estimators': 553,\n",
       " 'min_child_weight': 9,\n",
       " 'gamma': 0.4049072989340031,\n",
       " 'subsample': 0.9726559002239704,\n",
       " 'colsample_bytree': 0.9935645291463002,\n",
       " 'reg_alpha': 0.028750306006211025,\n",
       " 'reg_lambda': 0.594248339112557}"
      ]
     },
     "execution_count": 11,
     "metadata": {},
     "output_type": "execute_result"
    }
   ],
   "source": [
    "study.best_params"
   ]
  },
  {
   "cell_type": "code",
   "execution_count": null,
   "id": "e347fafb-334f-41e7-bfdb-70c800b09272",
   "metadata": {},
   "outputs": [],
   "source": []
  },
  {
   "cell_type": "code",
   "execution_count": 12,
   "id": "d7afbfe6-4da5-4039-9fa4-36dd85f21e96",
   "metadata": {},
   "outputs": [],
   "source": [
    "best_params = {'max_depth': 14,\n",
    " 'learning_rate': 0.01324387343234451,\n",
    " 'n_estimators': 553,\n",
    " 'min_child_weight': 9,\n",
    " 'gamma': 0.4049072989340031,\n",
    " 'subsample': 0.9726559002239704,\n",
    " 'colsample_bytree': 0.9935645291463002,\n",
    " 'reg_alpha': 0.028750306006211025,\n",
    " 'reg_lambda': 0.594248339112557}"
   ]
  },
  {
   "cell_type": "code",
   "execution_count": 16,
   "id": "37ab949c-a7b6-4171-b982-795ea905e813",
   "metadata": {},
   "outputs": [
    {
     "data": {
      "text/plain": [
       "0.04705864164718761"
      ]
     },
     "execution_count": 16,
     "metadata": {},
     "output_type": "execute_result"
    }
   ],
   "source": [
    "xgbr_model = XGBRegressor(**best_params)\n",
    "xgbr_model.fit(X_train, y_train)\n",
    "\n",
    "y_pred = xgbr_model.predict(X_test)\n",
    "mae = mean_absolute_percentage_error(y_test, y_pred)\n",
    "pred = xgbr_model.predict(df_pred)\n",
    "mae"
   ]
  },
  {
   "cell_type": "code",
   "execution_count": 13,
   "id": "7d397c25-d6cd-441b-bbac-0dd878a6a83b",
   "metadata": {},
   "outputs": [
    {
     "data": {
      "text/plain": [
       "0.038554750050876746"
      ]
     },
     "execution_count": 13,
     "metadata": {},
     "output_type": "execute_result"
    }
   ],
   "source": [
    "xgbr_model = XGBRegressor(**best_params)\n",
    "xgbr_model.fit(X, y)\n",
    "\n",
    "y_pred = xgbr_model.predict(X_test)\n",
    "mae = mean_absolute_percentage_error(y_test, y_pred)\n",
    "pred = xgbr_model.predict(df_pred)\n",
    "mae"
   ]
  },
  {
   "cell_type": "code",
   "execution_count": null,
   "id": "df739ca5-333d-4a94-abab-f042df06152d",
   "metadata": {},
   "outputs": [],
   "source": []
  },
  {
   "cell_type": "code",
   "execution_count": null,
   "id": "9684ca74-164c-415e-a817-d5506231112d",
   "metadata": {},
   "outputs": [],
   "source": []
  },
  {
   "cell_type": "code",
   "execution_count": 14,
   "id": "b55a72ab-f5e1-4e7e-9c6d-27c660acd209",
   "metadata": {},
   "outputs": [],
   "source": [
    "df_pred_duble = pd.read_csv('data/test.csv')\n",
    "df_pred_Id = df_pred_duble['id']\n",
    "\n",
    "output = pd.DataFrame({'id': df_pred_Id, 'num_sold': pred})\n",
    "output.to_csv('data/xgbr_model.csv', index=False)"
   ]
  },
  {
   "cell_type": "code",
   "execution_count": null,
   "id": "aa784269-9bba-4bc9-94a4-6e9244101492",
   "metadata": {},
   "outputs": [],
   "source": []
  },
  {
   "cell_type": "code",
   "execution_count": 15,
   "id": "0151f34b-3bdf-4e9e-9175-db893537b50a",
   "metadata": {},
   "outputs": [
    {
     "data": {
      "text/plain": [
       "Index(['day', 'month', 'year', 'quarter', 'dayofyear', 'weekday', 'Canada',\n",
       "       'Finland', 'Italy', 'Kenya', 'Norway', 'Singapore', 'Discount Stickers',\n",
       "       'Stickers for Less', 'Premium Sticker Mart', 'Kaggle', 'Kaggle Tiers',\n",
       "       'Kerneler', 'Kerneler Dark Mode', 'Holographic Goose'],\n",
       "      dtype='object')"
      ]
     },
     "execution_count": 15,
     "metadata": {},
     "output_type": "execute_result"
    }
   ],
   "source": [
    "X.columns"
   ]
  },
  {
   "cell_type": "code",
   "execution_count": null,
   "id": "af514ef6-8010-4a8b-ab00-540dd2c49ec9",
   "metadata": {},
   "outputs": [],
   "source": []
  },
  {
   "cell_type": "code",
   "execution_count": null,
   "id": "5d89057e-2a39-41ef-8771-57d2dafea8be",
   "metadata": {},
   "outputs": [],
   "source": []
  },
  {
   "cell_type": "code",
   "execution_count": null,
   "id": "77858bf3-428a-44b4-bb12-811e6d8df3f9",
   "metadata": {},
   "outputs": [],
   "source": []
  }
 ],
 "metadata": {
  "kernelspec": {
   "display_name": "Python 3 (ipykernel)",
   "language": "python",
   "name": "python3"
  },
  "language_info": {
   "codemirror_mode": {
    "name": "ipython",
    "version": 3
   },
   "file_extension": ".py",
   "mimetype": "text/x-python",
   "name": "python",
   "nbconvert_exporter": "python",
   "pygments_lexer": "ipython3",
   "version": "3.10.11"
  }
 },
 "nbformat": 4,
 "nbformat_minor": 5
}
